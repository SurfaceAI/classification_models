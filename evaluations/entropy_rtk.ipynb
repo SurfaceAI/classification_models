{
 "cells": [
  {
   "cell_type": "code",
   "execution_count": 1,
   "metadata": {},
   "outputs": [
    {
     "name": "stderr",
     "output_type": "stream",
     "text": [
      "/var/folders/zg/ds4nwmvx3kq28hn4r4zwbbw80000gp/T/ipykernel_46790/3928653220.py:6: DeprecationWarning: \n",
      "Pyarrow will become a required dependency of pandas in the next major release of pandas (pandas 3.0),\n",
      "(to allow more performant data types, such as the Arrow string type, and better interoperability with other libraries)\n",
      "but was not found to be installed on your system.\n",
      "If this would cause problems for you,\n",
      "please provide us feedback at https://github.com/pandas-dev/pandas/issues/54466\n",
      "        \n",
      "  import pandas as pd\n"
     ]
    }
   ],
   "source": [
    "import numpy as np\n",
    "from scipy.stats import entropy\n",
    "from scipy.spatial.distance import jensenshannon\n",
    "from sklearn.metrics import recall_score, precision_score\n",
    "\n",
    "import pandas as pd\n",
    "import os"
   ]
  },
  {
   "cell_type": "code",
   "execution_count": 37,
   "metadata": {},
   "outputs": [],
   "source": [
    "ds_version = \"RTK\"\n",
    "data_path = os.path.join(\"..\", \"data\", ds_version, \"metadata\")\n",
    "annotations_file = \"GT_RTK.csv\"\n",
    "annot = pd.read_csv(os.path.join(data_path, annotations_file)).rename(columns={\"image_id\": \"Image\"})"
   ]
  },
  {
   "cell_type": "code",
   "execution_count": 38,
   "metadata": {},
   "outputs": [],
   "source": [
    "# this are sample paths and need to be replaced with the final actual paths\n",
    "paths=[\n",
    "    \"V1_0_merged_lmh-crop_s42_type_prediction-RTK_GT-20240820_162043.csv\",\n",
    "    \"V1_0_merged_lmh-crop_s1024_type_prediction-RTK_GT-20240820_162155.csv\",\n",
    "    \"V1_0_merged_lmh-crop_s3_type_prediction-RTK_GT-20240821_092534.csv\",\n",
    "    \"V1_0_merged_lmh-crop_s57_type_prediction-RTK_GT-20240821_092741.csv\",\n",
    "    \"V1_0_merged_lmh-crop_s1000_type_prediction-RTK_GT-20240821_092950.csv\",\n",
    "    ]"
   ]
  },
  {
   "cell_type": "markdown",
   "metadata": {},
   "source": [
    "## Robustness: Entropy"
   ]
  },
  {
   "cell_type": "code",
   "execution_count": 39,
   "metadata": {},
   "outputs": [],
   "source": [
    "# entropy close to 0: all values are the same\n",
    "# entropy close to 1: all values are different"
   ]
  },
  {
   "cell_type": "markdown",
   "metadata": {},
   "source": [
    "### Variation 1: by category"
   ]
  },
  {
   "cell_type": "code",
   "execution_count": 54,
   "metadata": {},
   "outputs": [],
   "source": [
    "rtk_type_pred_allruns = pd.DataFrame()\n",
    "for i in range(0, len(paths)):\n",
    "    rtk = pd.read_csv(os.path.join(data_path, paths[i]), index_col=False)\n",
    "    rtk_type_pred = rtk[rtk.Level == \"type\"][[\"Image\", \"Prediction\", \"Level_0\", \"is_in_validation\"]]\n",
    "    idx = rtk_type_pred.groupby(\"Image\")[\"Prediction\"].idxmax()\n",
    "    rtk_type_pred = rtk.loc[idx]\n",
    "    rtk_type_pred[\"run\"] = i\n",
    "    rtk_type_pred_allruns = pd.concat([rtk_type_pred_allruns, rtk_type_pred], axis=0)"
   ]
  },
  {
   "cell_type": "code",
   "execution_count": 55,
   "metadata": {},
   "outputs": [],
   "source": [
    "base = 2\n",
    "n = 3 # how many different classes?\n",
    "hmax = np.log2(n)  # maximum entropy"
   ]
  },
  {
   "cell_type": "code",
   "execution_count": 56,
   "metadata": {},
   "outputs": [],
   "source": [
    "def calculate_entropy(group):\n",
    "    value_counts = group[\"Level_0\"].value_counts().values\n",
    "    H = entropy(value_counts, base=base)\n",
    "    return H / hmax #normalized entropy"
   ]
  },
  {
   "cell_type": "code",
   "execution_count": 57,
   "metadata": {},
   "outputs": [
    {
     "name": "stderr",
     "output_type": "stream",
     "text": [
      "/var/folders/zg/ds4nwmvx3kq28hn4r4zwbbw80000gp/T/ipykernel_15116/238006567.py:1: DeprecationWarning: DataFrameGroupBy.apply operated on the grouping columns. This behavior is deprecated, and in a future version of pandas the grouping columns will be excluded from the operation. Either pass `include_groups=False` to exclude the groupings or explicitly select the grouping columns after groupby to silence this warning.\n",
      "  entr = rtk_type_pred_allruns.groupby([\"Image\"]).apply(lambda x: calculate_entropy(x))\n"
     ]
    }
   ],
   "source": [
    "entr = rtk_type_pred_allruns.groupby([\"Image\"]).apply(lambda x: calculate_entropy(x))"
   ]
  },
  {
   "cell_type": "code",
   "execution_count": 58,
   "metadata": {},
   "outputs": [
    {
     "data": {
      "text/plain": [
       "0.000000    4403\n",
       "0.455486    1084\n",
       "0.612602     443\n",
       "0.864974     237\n",
       "0.960230     130\n",
       "Name: count, dtype: int64"
      ]
     },
     "execution_count": 58,
     "metadata": {},
     "output_type": "execute_result"
    }
   ],
   "source": [
    "entr.sort_values().value_counts()"
   ]
  },
  {
   "cell_type": "code",
   "execution_count": 59,
   "metadata": {},
   "outputs": [
    {
     "data": {
      "text/plain": [
       "0.17388563394332615"
      ]
     },
     "execution_count": 59,
     "metadata": {},
     "output_type": "execute_result"
    }
   ],
   "source": [
    "entr.mean()"
   ]
  },
  {
   "cell_type": "code",
   "execution_count": 60,
   "metadata": {},
   "outputs": [],
   "source": [
    "# TODO: merge true surface type and average entropy by true surface type\n",
    "rtk_type_pred_allruns = rtk_type_pred_allruns.set_index(\"Image\").join(\n",
    "        annot[[\"Image\", \"type_true\"]].set_index(\"Image\"), how=\"left\").reset_index()\n"
   ]
  },
  {
   "cell_type": "code",
   "execution_count": 61,
   "metadata": {},
   "outputs": [
    {
     "name": "stderr",
     "output_type": "stream",
     "text": [
      "/var/folders/zg/ds4nwmvx3kq28hn4r4zwbbw80000gp/T/ipykernel_15116/2842274835.py:1: DeprecationWarning: DataFrameGroupBy.apply operated on the grouping columns. This behavior is deprecated, and in a future version of pandas the grouping columns will be excluded from the operation. Either pass `include_groups=False` to exclude the groupings or explicitly select the grouping columns after groupby to silence this warning.\n",
      "  entr = rtk_type_pred_allruns.groupby([\"type_true\", \"Image\"]).apply(lambda x: calculate_entropy(x))\n"
     ]
    }
   ],
   "source": [
    "entr = rtk_type_pred_allruns.groupby([\"type_true\", \"Image\"]).apply(lambda x: calculate_entropy(x))"
   ]
  },
  {
   "cell_type": "code",
   "execution_count": 66,
   "metadata": {},
   "outputs": [
    {
     "data": {
      "text/plain": [
       "type_true\n",
       "asphalt    0.093779\n",
       "paved      0.262018\n",
       "unpaved    0.259873\n",
       "dtype: float64"
      ]
     },
     "execution_count": 66,
     "metadata": {},
     "output_type": "execute_result"
    }
   ],
   "source": [
    "entr.groupby([\"type_true\"]).mean()"
   ]
  },
  {
   "cell_type": "markdown",
   "metadata": {},
   "source": [
    "### Variation 2: by probability distribution"
   ]
  },
  {
   "cell_type": "markdown",
   "metadata": {},
   "source": [
    "Jensen-Shannon distance: symmetric version of Kullback-Leibler divergence bound between 0 and 1."
   ]
  },
  {
   "cell_type": "code",
   "execution_count": 80,
   "metadata": {},
   "outputs": [],
   "source": [
    "rtk_dsets= []\n",
    "for i in range(0, len(paths)):\n",
    "    rtk = pd.read_csv(os.path.join(data_path, paths[i]), index_col=False)\n",
    "    rtk_type_pred = rtk[rtk.Level == \"type\"][[\"Image\", \"Prediction\", \"Level_0\", \"is_in_validation\"]]\n",
    "    rtk_type_pred['Prediction'] = rtk_type_pred['Prediction'].replace(0, 1e-10) # quick fix: make sure no values are 0\n",
    "    rtk_type_pred = rtk_type_pred.set_index(\"Image\").join(\n",
    "        annot[[\"Image\", \"type_true\"]].set_index(\"Image\"), how=\"left\").reset_index()\n",
    "    rtk_dsets.append(rtk_type_pred)"
   ]
  },
  {
   "cell_type": "code",
   "execution_count": 81,
   "metadata": {},
   "outputs": [],
   "source": [
    "ents = []\n",
    "jsds = []\n",
    "for i in range(0, len(paths)):\n",
    "    for j in range(0, len(paths)):\n",
    "        if j <= i:\n",
    "            continue\n",
    "        e = entropy(rtk_dsets[i].Prediction, \n",
    "                        rtk_dsets[j].Prediction, base=base)\n",
    "        jsd = jensenshannon(rtk_dsets[i].Prediction, \n",
    "                            rtk_dsets[j].Prediction, base = base)\n",
    "        ents.append(e)\n",
    "        jsds.append(jsd)"
   ]
  },
  {
   "cell_type": "code",
   "execution_count": 82,
   "metadata": {},
   "outputs": [
    {
     "data": {
      "text/plain": [
       "[1.118153316833213,\n",
       " 0.7791834595029071,\n",
       " 0.40053026421305926,\n",
       " 0.4083522511432169,\n",
       " 0.8090901296400019,\n",
       " 1.040079197523175,\n",
       " 0.7946481704798619,\n",
       " 0.7965666514117775,\n",
       " 0.38143960580383374,\n",
       " 0.6223286375307305]"
      ]
     },
     "execution_count": 82,
     "metadata": {},
     "output_type": "execute_result"
    }
   ],
   "source": [
    "ents"
   ]
  },
  {
   "cell_type": "code",
   "execution_count": 83,
   "metadata": {},
   "outputs": [
    {
     "data": {
      "text/plain": [
       "0.7150371684081778"
      ]
     },
     "execution_count": 83,
     "metadata": {},
     "output_type": "execute_result"
    }
   ],
   "source": [
    "np.mean(ents)"
   ]
  },
  {
   "cell_type": "code",
   "execution_count": 84,
   "metadata": {},
   "outputs": [
    {
     "data": {
      "text/plain": [
       "0.3190167376631419"
      ]
     },
     "execution_count": 84,
     "metadata": {},
     "output_type": "execute_result"
    }
   ],
   "source": [
    "np.mean(jsds)"
   ]
  },
  {
   "cell_type": "code",
   "execution_count": 85,
   "metadata": {},
   "outputs": [],
   "source": [
    "# TODO: merge true values to compute entropy for each type individually"
   ]
  },
  {
   "cell_type": "code",
   "execution_count": 86,
   "metadata": {},
   "outputs": [],
   "source": [
    "types = [\"asphalt\", \"paved\", \"unpaved\"]\n",
    "ents = {}\n",
    "for type in types:\n",
    "    ents[type] = []\n",
    "for i in range(0, len(paths)):\n",
    "    rtk_type_pred_i = rtk_dsets[i]\n",
    "    for j in range(0, len(paths)):\n",
    "        if j <= i:\n",
    "            continue\n",
    "        rtk_type_pred_j = rtk_dsets[j]\n",
    "        for type in types:\n",
    "            # TODO: filter by true type\n",
    "            e = entropy(rtk_type_pred_i[rtk_type_pred_i[\"type_true\"]==type].Prediction, # rtk_dsets[i][rtk_dsets[i].true_type == type].Prediction,\n",
    "                            rtk_type_pred_j[rtk_type_pred_j[\"type_true\"]==type].Prediction, base=base) # rtk_dsets[j][rtk_dsets[j].true_type == type].Prediction,\n",
    "            ents[type].append(e)"
   ]
  },
  {
   "cell_type": "code",
   "execution_count": 87,
   "metadata": {},
   "outputs": [
    {
     "data": {
      "text/plain": [
       "{'asphalt': [0.8674320859034795,\n",
       "  0.4926338121702718,\n",
       "  0.4048923833158444,\n",
       "  0.3860314579995721,\n",
       "  0.09984003202756292,\n",
       "  0.41792701251797604,\n",
       "  0.10001992387168337,\n",
       "  0.47979094413769724,\n",
       "  0.1457458848987931,\n",
       "  0.8276380630831062],\n",
       " 'paved': [1.4793923328501384,\n",
       "  1.5086516336574414,\n",
       "  0.596693566749406,\n",
       "  0.6995020160115184,\n",
       "  1.9088699526996222,\n",
       "  1.1273466158157075,\n",
       "  1.3436254423575795,\n",
       "  0.8664623739803728,\n",
       "  0.466395890359656,\n",
       "  0.6026657995574866],\n",
       " 'unpaved': [1.287253733922836,\n",
       "  0.6015914322606501,\n",
       "  0.16045121064951245,\n",
       "  0.12003969218251277,\n",
       "  1.1962087734477058,\n",
       "  2.407463813073801,\n",
       "  1.792408613861935,\n",
       "  1.4629602829743418,\n",
       "  0.8386658281625718,\n",
       "  0.16039286653074494]}"
      ]
     },
     "execution_count": 87,
     "metadata": {},
     "output_type": "execute_result"
    }
   ],
   "source": [
    "ents"
   ]
  },
  {
   "cell_type": "code",
   "execution_count": 88,
   "metadata": {},
   "outputs": [
    {
     "name": "stdout",
     "output_type": "stream",
     "text": [
      "asphalt: 0.42\n",
      "paved: 1.06\n",
      "unpaved: 1.0\n"
     ]
    }
   ],
   "source": [
    "# averaged entropy\n",
    "for ent in ents:\n",
    "    print(f\"{ent}: {np.mean(ents[ent]).round(2)}\")"
   ]
  },
  {
   "cell_type": "code",
   "execution_count": null,
   "metadata": {},
   "outputs": [],
   "source": []
  }
 ],
 "metadata": {
  "kernelspec": {
   "display_name": "sai_dc",
   "language": "python",
   "name": "python3"
  },
  "language_info": {
   "codemirror_mode": {
    "name": "ipython",
    "version": 3
   },
   "file_extension": ".py",
   "mimetype": "text/x-python",
   "name": "python",
   "nbconvert_exporter": "python",
   "pygments_lexer": "ipython3",
   "version": "3.10.13"
  }
 },
 "nbformat": 4,
 "nbformat_minor": 2
}
