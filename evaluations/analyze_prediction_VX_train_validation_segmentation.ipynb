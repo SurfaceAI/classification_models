{
 "cells": [
  {
   "cell_type": "code",
   "execution_count": 29,
   "metadata": {},
   "outputs": [],
   "source": [
    "import pandas as pd\n",
    "from sklearn.metrics import precision_score, recall_score\n",
    "import os\n",
    "import numpy as np\n",
    "from sklearn.metrics import mean_squared_error, r2_score, confusion_matrix\n",
    "import matplotlib.pyplot as plt\n",
    "import seaborn as sns"
   ]
  },
  {
   "cell_type": "code",
   "execution_count": 30,
   "metadata": {},
   "outputs": [],
   "source": [
    "# ds_version = \"V9\"\n",
    "ds_version = \"V11\"\n",
    "root_data_path = os.path.join(\"..\", \"data\", \"training\", ds_version)\n",
    "data_path = os.path.join(root_data_path, \"metadata\")"
   ]
  },
  {
   "cell_type": "code",
   "execution_count": 31,
   "metadata": {},
   "outputs": [],
   "source": [
    "# with cropping\n",
    "# cropping_file_name = \"all_train_effnet_surface_quality_prediction-V9_annotated-20240318_130115.csv\"\n",
    "cropping_file_name = 'effnet_surface_prediction-V11_annotated-20240408_143707.csv'"
   ]
  },
  {
   "cell_type": "code",
   "execution_count": 80,
   "metadata": {},
   "outputs": [],
   "source": [
    "# with segmentation\n",
    "# segment_file_name = \"all_train_effnet_surface_quality_prediction-V9_annotated-20240403_181456.csv\"\n",
    "segment_file_name = 'effnet_surface_prediction_crop-V11_annotated-20240410_120029.csv'"
   ]
  },
  {
   "cell_type": "code",
   "execution_count": 81,
   "metadata": {},
   "outputs": [
    {
     "name": "stdout",
     "output_type": "stream",
     "text": [
      "reading effnet_surface_prediction-V11_annotated-20240408_143707.csv\n"
     ]
    }
   ],
   "source": [
    "crop_pred = pd.DataFrame()\n",
    "# surface = file_name.split(\"_\")[0]\n",
    "print(f\"reading {cropping_file_name}\")\n",
    "df = pd.read_csv(os.path.join(data_path, \"model_predictions\", cropping_file_name))\n",
    "# df[\"surface_pred\"] = surface\n",
    "crop_pred = pd.concat([crop_pred, df])\n",
    "\n",
    "crop_pred.rename(columns={\"Image\": \"image_id\", \"Prediction\": \"surface_probability\", \"Level_0\": \"surface_label_pred\"}, inplace=True)"
   ]
  },
  {
   "cell_type": "code",
   "execution_count": 82,
   "metadata": {},
   "outputs": [
    {
     "name": "stdout",
     "output_type": "stream",
     "text": [
      "reading effnet_surface_prediction_crop-V11_annotated-20240410_120029.csv\n"
     ]
    }
   ],
   "source": [
    "seg_pred = pd.DataFrame()\n",
    "# surface = file_name.split(\"_\")[0]\n",
    "print(f\"reading {segment_file_name}\")\n",
    "df = pd.read_csv(os.path.join(data_path, \"model_predictions\", segment_file_name))\n",
    "# df[\"surface_pred\"] = surface\n",
    "seg_pred = pd.concat([seg_pred, df])\n",
    "\n",
    "seg_pred.rename(columns={\"Image\": \"image_id\", \"Prediction\": \"seg_surface_probability\", \"Level_0\": \"seg_surface_label_pred\", \"Segment\": \"segment\"}, inplace=True)"
   ]
  },
  {
   "cell_type": "code",
   "execution_count": 83,
   "metadata": {},
   "outputs": [
    {
     "data": {
      "text/html": [
       "<div>\n",
       "<style scoped>\n",
       "    .dataframe tbody tr th:only-of-type {\n",
       "        vertical-align: middle;\n",
       "    }\n",
       "\n",
       "    .dataframe tbody tr th {\n",
       "        vertical-align: top;\n",
       "    }\n",
       "\n",
       "    .dataframe thead th {\n",
       "        text-align: right;\n",
       "    }\n",
       "</style>\n",
       "<table border=\"1\" class=\"dataframe\">\n",
       "  <thead>\n",
       "    <tr style=\"text-align: right;\">\n",
       "      <th></th>\n",
       "      <th>image_id</th>\n",
       "      <th>surface_probability</th>\n",
       "      <th>surface_label_pred</th>\n",
       "      <th>is_in_validation</th>\n",
       "    </tr>\n",
       "  </thead>\n",
       "  <tbody>\n",
       "    <tr>\n",
       "      <th>0</th>\n",
       "      <td>1108901116248517</td>\n",
       "      <td>0.990364</td>\n",
       "      <td>asphalt</td>\n",
       "      <td>0.0</td>\n",
       "    </tr>\n",
       "    <tr>\n",
       "      <th>1</th>\n",
       "      <td>1108901116248517</td>\n",
       "      <td>0.007661</td>\n",
       "      <td>concrete</td>\n",
       "      <td>0.0</td>\n",
       "    </tr>\n",
       "    <tr>\n",
       "      <th>2</th>\n",
       "      <td>1108901116248517</td>\n",
       "      <td>0.001261</td>\n",
       "      <td>paving_stones</td>\n",
       "      <td>0.0</td>\n",
       "    </tr>\n",
       "    <tr>\n",
       "      <th>3</th>\n",
       "      <td>1108901116248517</td>\n",
       "      <td>0.000323</td>\n",
       "      <td>sett</td>\n",
       "      <td>0.0</td>\n",
       "    </tr>\n",
       "    <tr>\n",
       "      <th>4</th>\n",
       "      <td>1108901116248517</td>\n",
       "      <td>0.000391</td>\n",
       "      <td>unpaved</td>\n",
       "      <td>0.0</td>\n",
       "    </tr>\n",
       "    <tr>\n",
       "      <th>...</th>\n",
       "      <td>...</td>\n",
       "      <td>...</td>\n",
       "      <td>...</td>\n",
       "      <td>...</td>\n",
       "    </tr>\n",
       "    <tr>\n",
       "      <th>49895</th>\n",
       "      <td>959327628152817</td>\n",
       "      <td>0.000089</td>\n",
       "      <td>asphalt</td>\n",
       "      <td>0.0</td>\n",
       "    </tr>\n",
       "    <tr>\n",
       "      <th>49896</th>\n",
       "      <td>959327628152817</td>\n",
       "      <td>0.000075</td>\n",
       "      <td>concrete</td>\n",
       "      <td>0.0</td>\n",
       "    </tr>\n",
       "    <tr>\n",
       "      <th>49897</th>\n",
       "      <td>959327628152817</td>\n",
       "      <td>0.000077</td>\n",
       "      <td>paving_stones</td>\n",
       "      <td>0.0</td>\n",
       "    </tr>\n",
       "    <tr>\n",
       "      <th>49898</th>\n",
       "      <td>959327628152817</td>\n",
       "      <td>0.000146</td>\n",
       "      <td>sett</td>\n",
       "      <td>0.0</td>\n",
       "    </tr>\n",
       "    <tr>\n",
       "      <th>49899</th>\n",
       "      <td>959327628152817</td>\n",
       "      <td>0.999613</td>\n",
       "      <td>unpaved</td>\n",
       "      <td>0.0</td>\n",
       "    </tr>\n",
       "  </tbody>\n",
       "</table>\n",
       "<p>49900 rows × 4 columns</p>\n",
       "</div>"
      ],
      "text/plain": [
       "               image_id  surface_probability surface_label_pred  \\\n",
       "0      1108901116248517             0.990364            asphalt   \n",
       "1      1108901116248517             0.007661           concrete   \n",
       "2      1108901116248517             0.001261      paving_stones   \n",
       "3      1108901116248517             0.000323               sett   \n",
       "4      1108901116248517             0.000391            unpaved   \n",
       "...                 ...                  ...                ...   \n",
       "49895   959327628152817             0.000089            asphalt   \n",
       "49896   959327628152817             0.000075           concrete   \n",
       "49897   959327628152817             0.000077      paving_stones   \n",
       "49898   959327628152817             0.000146               sett   \n",
       "49899   959327628152817             0.999613            unpaved   \n",
       "\n",
       "       is_in_validation  \n",
       "0                   0.0  \n",
       "1                   0.0  \n",
       "2                   0.0  \n",
       "3                   0.0  \n",
       "4                   0.0  \n",
       "...                 ...  \n",
       "49895               0.0  \n",
       "49896               0.0  \n",
       "49897               0.0  \n",
       "49898               0.0  \n",
       "49899               0.0  \n",
       "\n",
       "[49900 rows x 4 columns]"
      ]
     },
     "execution_count": 83,
     "metadata": {},
     "output_type": "execute_result"
    }
   ],
   "source": [
    "crop_pred"
   ]
  },
  {
   "cell_type": "code",
   "execution_count": 84,
   "metadata": {},
   "outputs": [],
   "source": [
    "# the prediction holds a value for each surface and a class probability. Only keep the highest prob.\n",
    "idx = crop_pred.groupby(\"image_id\")[\"surface_probability\"].idxmax()\n",
    "crop_pred = crop_pred.loc[idx]\n",
    "\n",
    "idx = seg_pred.groupby(\"image_id\")[\"seg_surface_probability\"].idxmax()\n",
    "seg_pred = seg_pred.loc[idx]\n"
   ]
  },
  {
   "cell_type": "code",
   "execution_count": 85,
   "metadata": {},
   "outputs": [],
   "source": [
    "# annot = pd.read_csv(os.path.join(data_path, \"V9_annotations_combined.csv\"))\n",
    "annot = pd.read_csv(os.path.join(data_path, \"annotations_combined.csv\"))\n",
    "annot.rename(columns={\"surface\": \"surface_true\", \"smoothness\": \"quality_label_true\"}, inplace=True)\n",
    "# annot[\"quality_float_true\"] = annot[\"quality_label_true\"].map({\"excellent\": 1, \"good\": 2, \"intermediate\": 3, \"bad\": 4, \"very_bad\": 5})"
   ]
  },
  {
   "cell_type": "code",
   "execution_count": 86,
   "metadata": {},
   "outputs": [],
   "source": [
    "df = crop_pred.set_index(\"image_id\").join(seg_pred[[\"image_id\", \"seg_surface_probability\", \"seg_surface_label_pred\", \"segment\"]].set_index(\"image_id\"), how=\"left\").join(annot[[\"image_id\", \"surface_true\", \"quality_label_true\"]].set_index(\"image_id\"), how=\"left\")"
   ]
  },
  {
   "cell_type": "code",
   "execution_count": 87,
   "metadata": {},
   "outputs": [],
   "source": [
    "# exclude not recognizable\n",
    "df = df[df.surface_true.notna()]\n",
    "# df = df[df.seg_surface_label_pred.notna()]"
   ]
  },
  {
   "cell_type": "code",
   "execution_count": 88,
   "metadata": {},
   "outputs": [
    {
     "data": {
      "text/plain": [
       "surface_true   quality_label_true\n",
       "asphalt        bad                    123\n",
       "               excellent              783\n",
       "               good                  1334\n",
       "               intermediate           622\n",
       "concrete       bad                     54\n",
       "               excellent              189\n",
       "               good                   340\n",
       "               intermediate           249\n",
       "paving_stones  bad                     30\n",
       "               excellent              332\n",
       "               good                   697\n",
       "               intermediate           208\n",
       "sett           bad                    518\n",
       "               good                    97\n",
       "               intermediate           658\n",
       "unpaved        bad                    336\n",
       "               intermediate           305\n",
       "               very_bad               158\n",
       "dtype: int64"
      ]
     },
     "execution_count": 88,
     "metadata": {},
     "output_type": "execute_result"
    }
   ],
   "source": [
    "df.groupby([\"surface_true\", \"quality_label_true\"]).size()"
   ]
  },
  {
   "cell_type": "code",
   "execution_count": 89,
   "metadata": {},
   "outputs": [],
   "source": [
    "# df_valid = df[df.is_in_validation == 1]\n",
    "# df_train = df[df.is_in_validation == 0]"
   ]
  },
  {
   "cell_type": "code",
   "execution_count": 90,
   "metadata": {},
   "outputs": [],
   "source": [
    "# df.groupby([\"is_in_validation\", \"surface_true\"]).size().to_csv(\"test.csv\")"
   ]
  },
  {
   "cell_type": "markdown",
   "metadata": {},
   "source": [
    "## Global measures"
   ]
  },
  {
   "cell_type": "code",
   "execution_count": 91,
   "metadata": {},
   "outputs": [],
   "source": [
    "def compute_measures(true_label, pred_label):\n",
    "    m = {\n",
    "    \"accuracy\": sum(true_label == pred_label) / len(true_label),\n",
    "    # \"correlation\": np.corrcoef(true_float, pred_float)[0, 1],\n",
    "    # \"r_square\": r2_score(true_float, pred_float),\n",
    "    # \"mse\": mean_squared_error(true_float, pred_float)\n",
    "    }\n",
    "    # m[\"rmse\"] = np.sqrt(m[\"mse\"])\n",
    "    return m"
   ]
  },
  {
   "cell_type": "code",
   "execution_count": 92,
   "metadata": {},
   "outputs": [
    {
     "data": {
      "text/plain": [
       "{'accuracy': 0.9923219109910423}"
      ]
     },
     "execution_count": 92,
     "metadata": {},
     "output_type": "execute_result"
    }
   ],
   "source": [
    "# all\n",
    "gm = compute_measures(df.surface_label_pred, df.seg_surface_label_pred)\n",
    "# gm_valid = compute_measures(df_valid.surface_label_pred, df_valid.seg_surface_label_pred)\n",
    "# gm_train = compute_measures(df_train.surface_label_pred, df_train.seg_surface_label_pred)\n",
    "# pd.concat([pd.Series(gm, name=\"all\"), pd.Series(gm_valid, name=\"validation\"), pd.Series(gm_train, name=\"train\")], axis=1).round(2)\n",
    "gm"
   ]
  },
  {
   "cell_type": "markdown",
   "metadata": {},
   "source": [
    "## with valid segmentation"
   ]
  },
  {
   "cell_type": "code",
   "execution_count": 93,
   "metadata": {},
   "outputs": [
    {
     "data": {
      "text/plain": [
       "(7033, 8)"
      ]
     },
     "execution_count": 93,
     "metadata": {},
     "output_type": "execute_result"
    }
   ],
   "source": [
    "df.shape"
   ]
  },
  {
   "cell_type": "code",
   "execution_count": 94,
   "metadata": {},
   "outputs": [],
   "source": [
    "df = df[df.segment.notna()]\n",
    "df = df[~df['segment'].isin(['','completely_segmented', 'not_completely_segmented'])]"
   ]
  },
  {
   "cell_type": "code",
   "execution_count": 95,
   "metadata": {},
   "outputs": [
    {
     "data": {
      "text/plain": [
       "(2476, 8)"
      ]
     },
     "execution_count": 95,
     "metadata": {},
     "output_type": "execute_result"
    }
   ],
   "source": [
    "df.shape"
   ]
  },
  {
   "cell_type": "code",
   "execution_count": 96,
   "metadata": {},
   "outputs": [
    {
     "data": {
      "text/plain": [
       "surface_true   quality_label_true\n",
       "asphalt        bad                    36\n",
       "               excellent             269\n",
       "               good                  467\n",
       "               intermediate          225\n",
       "concrete       bad                    26\n",
       "               excellent              62\n",
       "               good                  122\n",
       "               intermediate          103\n",
       "paving_stones  bad                     8\n",
       "               excellent             123\n",
       "               good                  243\n",
       "               intermediate           69\n",
       "sett           bad                   176\n",
       "               good                   31\n",
       "               intermediate          220\n",
       "unpaved        bad                   129\n",
       "               intermediate          115\n",
       "               very_bad               52\n",
       "dtype: int64"
      ]
     },
     "execution_count": 96,
     "metadata": {},
     "output_type": "execute_result"
    }
   ],
   "source": [
    "df.groupby([\"surface_true\", \"quality_label_true\"]).size()"
   ]
  },
  {
   "cell_type": "code",
   "execution_count": 97,
   "metadata": {},
   "outputs": [
    {
     "data": {
      "text/plain": [
       "{'accuracy': 0.9781906300484653}"
      ]
     },
     "execution_count": 97,
     "metadata": {},
     "output_type": "execute_result"
    }
   ],
   "source": [
    "gm = compute_measures(df.surface_label_pred, df.seg_surface_label_pred)\n",
    "# gm_valid = compute_measures(df_valid.surface_label_pred, df_valid.seg_surface_label_pred)\n",
    "# gm_train = compute_measures(df_train.surface_label_pred, df_train.seg_surface_label_pred)\n",
    "# pd.concat([pd.Series(gm, name=\"all\"), pd.Series(gm_valid, name=\"validation\"), pd.Series(gm_train, name=\"train\")], axis=1).round(2)\n",
    "gm"
   ]
  },
  {
   "cell_type": "markdown",
   "metadata": {},
   "source": [
    "## compare classes"
   ]
  },
  {
   "cell_type": "code",
   "execution_count": 98,
   "metadata": {},
   "outputs": [
    {
     "data": {
      "image/png": "[encoded data removed]",
      "text/plain": [
       "<Figure size 640x480 with 1 Axes>"
      ]
     },
     "metadata": {},
     "output_type": "display_data"
    }
   ],
   "source": [
    "# Plotting the confusion matrix using seaborn heatmap\n",
    "\n",
    "cm = confusion_matrix(df.surface_label_pred, df.seg_surface_label_pred, labels=[\"asphalt\", \"concrete\", \"paving_stones\", \"sett\", \"unpaved\"])\n",
    "plt.figure()\n",
    "sns.heatmap(cm, annot=True, fmt=\"d\", cmap=\"Blues\", cbar=False,\n",
    "            xticklabels=[\"asphalt\", \"concrete\", \"paving_stones\", \"sett\", \"unpaved\"],\n",
    "            yticklabels=[\"asphalt\", \"concrete\", \"paving_stones\", \"sett\", \"unpaved\"])\n",
    "plt.title(f\"Confusion Matrix for Surface\")\n",
    "plt.xlabel(\"Segmentation\")\n",
    "plt.ylabel(\"Predicted\")\n",
    "plt.show()"
   ]
  },
  {
   "cell_type": "code",
   "execution_count": 99,
   "metadata": {},
   "outputs": [
    {
     "name": "stdout",
     "output_type": "stream",
     "text": [
      "Count: 2476\n",
      "Precision: 0.98\n",
      "Recall: 0.98\n",
      "------------------------\n"
     ]
    }
   ],
   "source": [
    "# Extract predicted and ground truth values\n",
    "\n",
    "class_precision = precision_score(df.surface_label_pred, df.seg_surface_label_pred, average='weighted')\n",
    "class_recall = recall_score(df.surface_label_pred, df.seg_surface_label_pred, average='weighted')\n",
    "\n",
    "print(f\"Count: {len(df)}\")\n",
    "print(f\"Precision: {round(class_precision, 2)}\")\n",
    "print(f\"Recall: {round(class_recall, 2)}\")\n",
    "print(\"------------------------\")\n"
   ]
  },
  {
   "cell_type": "code",
   "execution_count": 100,
   "metadata": {},
   "outputs": [],
   "source": [
    "# all images that were incorrectly classified\n",
    "# misclassification = df[(df.surface_label_pred != df.surface_true) & (df.is_in_validation == 1)]\n",
    "misclassification = df[(df.surface_label_pred != df.seg_surface_label_pred)]"
   ]
  },
  {
   "cell_type": "code",
   "execution_count": 101,
   "metadata": {},
   "outputs": [],
   "source": [
    "misclassification = misclassification.sort_values(\"image_id\")\n",
    "misclassification.reset_index( inplace=True)\n",
    "misclassification[[\"image_id\", \"is_in_validation\", \n",
    "                    \"surface_true\", \"surface_label_pred\", \"seg_surface_label_pred\", \"surface_probability\", \"seg_surface_probability\", \"segment\"]\n",
    "                    ].to_csv(os.path.join(data_path, \"model_predictions\", \"seg_mis_surface.csv\"), index=False)"
   ]
  },
  {
   "cell_type": "code",
   "execution_count": 102,
   "metadata": {},
   "outputs": [],
   "source": [
    "# all images that were correctly classified\n",
    "equiclassification = df[(df.surface_label_pred == df.seg_surface_label_pred)]"
   ]
  },
  {
   "cell_type": "code",
   "execution_count": 103,
   "metadata": {},
   "outputs": [],
   "source": [
    "equiclassification = equiclassification.sort_values(\"image_id\")\n",
    "equiclassification.reset_index( inplace=True)\n",
    "equiclassification[[\"image_id\", \"is_in_validation\", \n",
    "                    \"surface_true\", \"surface_label_pred\", \"seg_surface_label_pred\", \"surface_probability\", \"seg_surface_probability\", \"segment\"]\n",
    "                    ].to_csv(os.path.join(data_path, \"model_predictions\", \"seg_correct_surface.csv\"), index=False)"
   ]
  },
  {
   "cell_type": "code",
   "execution_count": 104,
   "metadata": {},
   "outputs": [],
   "source": [
    "# TODO: update columns before saving\n",
    "# df_comment = pd.DataFrame()\n",
    "# df_tmp = pd.read_csv(os.path.join(data_path, \"model_predictions\", \"seg_mis_surface_comments.csv\"), encoding='unicode_escape')\n",
    "# df_comment = pd.concat([df_comment, df])\n",
    "\n",
    "# df_comment_prob = df_comment.set_index(\"image_id\").join(df[[\"image_id\", \"surface_probability\", \"seg_surface_probability\"]].set_index(\"image_id\"), how=\"left\")"
   ]
  },
  {
   "cell_type": "code",
   "execution_count": 105,
   "metadata": {},
   "outputs": [],
   "source": [
    "# # store missclassified images in folder\n",
    "# import shutil\n",
    "\n",
    "# path = os.path.join(data_path, \"model_predictions\", \"seg_mis_images\", \"surface\")\n",
    "# os.makedirs(path, exist_ok=True)\n",
    "# for i in range(len(misclassification)):  # len(misclassification)\n",
    "#     img = misclassification.loc[i]\n",
    "#     img_path = os.path.join(root_data_path, \"annotated\")\n",
    "#     destination_folder_path = os.path.join(path, img.surface_label_pred, img.seg_surface_label_pred)\n",
    "#     os.makedirs(destination_folder_path, exist_ok=True)\n",
    "#     destination_path = os.path.join(destination_folder_path, f\"{img.image_id}.jpg\")\n",
    "#     image_filename = os.path.join(img_path, img.surface_true, img.quality_label_true, f\"{img.image_id}.jpg\")\n",
    "#     shutil.copy(image_filename, destination_folder_path)"
   ]
  },
  {
   "cell_type": "code",
   "execution_count": 106,
   "metadata": {},
   "outputs": [],
   "source": [
    "# store missclassified images in folder\n",
    "# path = \"/Users/alexandra/Nextcloud-HTW/SHARED/SurfaceAI/data/mapillary_images/training/V4/metadata/model_predictions/VGG16_V4_not_annotated/missclassified_wo_nostreet\"\n",
    "# os.makedirs(path, exist_ok=True)\n",
    "# for image_id in misclassification_wo_nostreet.index:\n",
    "#     destination_path = os.path.join(path, f\"{image_id}.jpg\")\n",
    "#     image_filename = os.path.join(\"/Users/alexandra/Nextcloud-HTW/SHARED/SurfaceAI/data/mapillary_images/training/V4/unsorted_images\", f\"{image_id}.jpg\")\n",
    "#     shutil.copy(image_filename, destination_path)"
   ]
  },
  {
   "cell_type": "code",
   "execution_count": null,
   "metadata": {},
   "outputs": [],
   "source": []
  },
  {
   "cell_type": "code",
   "execution_count": null,
   "metadata": {},
   "outputs": [],
   "source": []
  }
 ],
 "metadata": {
  "kernelspec": {
   "display_name": "sai_dc",
   "language": "python",
   "name": "python3"
  },
  "language_info": {
   "codemirror_mode": {
    "name": "ipython",
    "version": 3
   },
   "file_extension": ".py",
   "mimetype": "text/x-python",
   "name": "python",
   "nbconvert_exporter": "python",
   "pygments_lexer": "ipython3",
   "version": "3.10.13"
  }
 },
 "nbformat": 4,
 "nbformat_minor": 2
}
