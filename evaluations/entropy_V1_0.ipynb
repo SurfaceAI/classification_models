{
 "cells": [
  {
   "cell_type": "code",
   "execution_count": 1,
   "metadata": {},
   "outputs": [
    {
     "name": "stderr",
     "output_type": "stream",
     "text": [
      "/var/folders/zg/ds4nwmvx3kq28hn4r4zwbbw80000gp/T/ipykernel_46767/3928653220.py:6: DeprecationWarning: \n",
      "Pyarrow will become a required dependency of pandas in the next major release of pandas (pandas 3.0),\n",
      "(to allow more performant data types, such as the Arrow string type, and better interoperability with other libraries)\n",
      "but was not found to be installed on your system.\n",
      "If this would cause problems for you,\n",
      "please provide us feedback at https://github.com/pandas-dev/pandas/issues/54466\n",
      "        \n",
      "  import pandas as pd\n"
     ]
    }
   ],
   "source": [
    "import numpy as np\n",
    "from scipy.stats import entropy\n",
    "from scipy.spatial.distance import jensenshannon\n",
    "from sklearn.metrics import recall_score, precision_score\n",
    "\n",
    "import pandas as pd\n",
    "import os"
   ]
  },
  {
   "cell_type": "code",
   "execution_count": 12,
   "metadata": {},
   "outputs": [],
   "source": [
    "ds_version = \"V1_0\"\n",
    "root_data_path = os.path.join(\"..\", \"data\", ds_version)\n",
    "data_path = os.path.join(root_data_path, \"metadata\")\n",
    "annotations_file = \"streetSurfaceVis_v1_0.csv\"\n",
    "annot = pd.read_csv(os.path.join(root_data_path, annotations_file)).rename(\n",
    "    columns={\"mapillary_image_id\": \"Image\", \"surface_type\": \"type_true\"}).replace(\n",
    "        {'asphalt': 'asphalt', 'concrete': 'asphalt', 'paving_stones': 'paved', 'sett': 'paved'})"
   ]
  },
  {
   "cell_type": "code",
   "execution_count": 13,
   "metadata": {},
   "outputs": [],
   "source": [
    "# this are sample paths and need to be replaced with the final actual paths\n",
    "paths=[\n",
    "    \"RTK_complete_lmh-crop_s42_type_prediction-V1_0_annotated-20240820_155547.csv\",\n",
    "    \"RTK_complete_lmh-crop_s1024_type_prediction-V1_0_annotated-20240820_160652.csv\",\n",
    "    \"RTK_complete_lmh-crop_s3_type_prediction-V1_0_annotated-20240821_083348.csv\",\n",
    "    \"RTK_complete_lmh-crop_s57_type_prediction-V1_0_annotated-20240821_083834.csv\",\n",
    "    \"RTK_complete_lmh-crop_s1000_type_prediction-V1_0_annotated-20240821_084337.csv\",\n",
    "    ]"
   ]
  },
  {
   "cell_type": "markdown",
   "metadata": {},
   "source": [
    "## Robustness: Entropy"
   ]
  },
  {
   "cell_type": "code",
   "execution_count": 14,
   "metadata": {},
   "outputs": [],
   "source": [
    "# entropy close to 0: all values are the same\n",
    "# entropy close to 1: all values are different"
   ]
  },
  {
   "cell_type": "markdown",
   "metadata": {},
   "source": [
    "### Variation 1: by category"
   ]
  },
  {
   "cell_type": "code",
   "execution_count": 15,
   "metadata": {},
   "outputs": [],
   "source": [
    "rtk_type_pred_allruns = pd.DataFrame()\n",
    "for i in range(0, len(paths)):\n",
    "    rtk = pd.read_csv(os.path.join(data_path, paths[i]), index_col=False)\n",
    "    rtk_type_pred = rtk[rtk.Level == \"type\"][[\"Image\", \"Prediction\", \"Level_0\", \"is_in_validation\"]]\n",
    "    idx = rtk_type_pred.groupby(\"Image\")[\"Prediction\"].idxmax()\n",
    "    rtk_type_pred = rtk.loc[idx]\n",
    "    rtk_type_pred[\"run\"] = i\n",
    "    rtk_type_pred_allruns = pd.concat([rtk_type_pred_allruns, rtk_type_pred], axis=0)"
   ]
  },
  {
   "cell_type": "code",
   "execution_count": 16,
   "metadata": {},
   "outputs": [],
   "source": [
    "base = 2\n",
    "n = 3 # how many different classes?\n",
    "hmax = np.log2(n)  # maximum entropy"
   ]
  },
  {
   "cell_type": "code",
   "execution_count": 17,
   "metadata": {},
   "outputs": [],
   "source": [
    "def calculate_entropy(group):\n",
    "    value_counts = group[\"Level_0\"].value_counts().values\n",
    "    H = entropy(value_counts, base=base)\n",
    "    return H / hmax #normalized entropy"
   ]
  },
  {
   "cell_type": "code",
   "execution_count": 18,
   "metadata": {},
   "outputs": [
    {
     "name": "stderr",
     "output_type": "stream",
     "text": [
      "/var/folders/zg/ds4nwmvx3kq28hn4r4zwbbw80000gp/T/ipykernel_46767/238006567.py:1: DeprecationWarning: DataFrameGroupBy.apply operated on the grouping columns. This behavior is deprecated, and in a future version of pandas the grouping columns will be excluded from the operation. Either pass `include_groups=False` to exclude the groupings or explicitly select the grouping columns after groupby to silence this warning.\n",
      "  entr = rtk_type_pred_allruns.groupby([\"Image\"]).apply(lambda x: calculate_entropy(x))\n"
     ]
    }
   ],
   "source": [
    "entr = rtk_type_pred_allruns.groupby([\"Image\"]).apply(lambda x: calculate_entropy(x))"
   ]
  },
  {
   "cell_type": "code",
   "execution_count": 19,
   "metadata": {},
   "outputs": [
    {
     "data": {
      "text/plain": [
       "0.000000    6063\n",
       "0.455486    1205\n",
       "0.612602     993\n",
       "0.864974      46\n",
       "0.960230      39\n",
       "Name: count, dtype: int64"
      ]
     },
     "execution_count": 19,
     "metadata": {},
     "output_type": "execute_result"
    }
   ],
   "source": [
    "entr.sort_values().value_counts()"
   ]
  },
  {
   "cell_type": "code",
   "execution_count": 20,
   "metadata": {},
   "outputs": [
    {
     "data": {
      "text/plain": [
       "0.14790458620695487"
      ]
     },
     "execution_count": 20,
     "metadata": {},
     "output_type": "execute_result"
    }
   ],
   "source": [
    "entr.mean()"
   ]
  },
  {
   "cell_type": "code",
   "execution_count": 21,
   "metadata": {},
   "outputs": [],
   "source": [
    "# TODO: merge true surface type and average entropy by true surface type\n",
    "rtk_type_pred_allruns = rtk_type_pred_allruns.set_index(\"Image\").join(\n",
    "        annot[[\"Image\", \"type_true\"]].set_index(\"Image\"), how=\"left\").reset_index()\n"
   ]
  },
  {
   "cell_type": "code",
   "execution_count": 22,
   "metadata": {},
   "outputs": [
    {
     "name": "stderr",
     "output_type": "stream",
     "text": [
      "/var/folders/zg/ds4nwmvx3kq28hn4r4zwbbw80000gp/T/ipykernel_46767/2842274835.py:1: DeprecationWarning: DataFrameGroupBy.apply operated on the grouping columns. This behavior is deprecated, and in a future version of pandas the grouping columns will be excluded from the operation. Either pass `include_groups=False` to exclude the groupings or explicitly select the grouping columns after groupby to silence this warning.\n",
      "  entr = rtk_type_pred_allruns.groupby([\"type_true\", \"Image\"]).apply(lambda x: calculate_entropy(x))\n"
     ]
    }
   ],
   "source": [
    "entr = rtk_type_pred_allruns.groupby([\"type_true\", \"Image\"]).apply(lambda x: calculate_entropy(x))"
   ]
  },
  {
   "cell_type": "code",
   "execution_count": 23,
   "metadata": {},
   "outputs": [
    {
     "data": {
      "text/plain": [
       "type_true\n",
       "asphalt    0.040606\n",
       "paved      0.230320\n",
       "unpaved    0.339204\n",
       "dtype: float64"
      ]
     },
     "execution_count": 23,
     "metadata": {},
     "output_type": "execute_result"
    }
   ],
   "source": [
    "entr.groupby([\"type_true\"]).mean()"
   ]
  },
  {
   "cell_type": "markdown",
   "metadata": {},
   "source": [
    "### Variation 2: by probability distribution"
   ]
  },
  {
   "cell_type": "markdown",
   "metadata": {},
   "source": [
    "Jensen-Shannon distance: symmetric version of Kullback-Leibler divergence bound between 0 and 1."
   ]
  },
  {
   "cell_type": "code",
   "execution_count": 24,
   "metadata": {},
   "outputs": [],
   "source": [
    "rtk_dsets= []\n",
    "for i in range(0, len(paths)):\n",
    "    rtk = pd.read_csv(os.path.join(data_path, paths[i]), index_col=False)\n",
    "    rtk_type_pred = rtk[rtk.Level == \"type\"][[\"Image\", \"Prediction\", \"Level_0\", \"is_in_validation\"]]\n",
    "    rtk_type_pred['Prediction'] = rtk_type_pred['Prediction'].replace(0, 1e-10) # quick fix: make sure no values are 0\n",
    "    rtk_type_pred = rtk_type_pred.set_index(\"Image\").join(\n",
    "        annot[[\"Image\", \"type_true\"]].set_index(\"Image\"), how=\"left\").reset_index()\n",
    "    rtk_dsets.append(rtk_type_pred)"
   ]
  },
  {
   "cell_type": "code",
   "execution_count": 25,
   "metadata": {},
   "outputs": [],
   "source": [
    "ents = []\n",
    "jsds = []\n",
    "for i in range(0, len(paths)):\n",
    "    for j in range(0, len(paths)):\n",
    "        if j <= i:\n",
    "            continue\n",
    "        e = entropy(rtk_dsets[i].Prediction, \n",
    "                        rtk_dsets[j].Prediction, base=base)\n",
    "        jsd = jensenshannon(rtk_dsets[i].Prediction, \n",
    "                            rtk_dsets[j].Prediction, base = base)\n",
    "        ents.append(e)\n",
    "        jsds.append(jsd)"
   ]
  },
  {
   "cell_type": "code",
   "execution_count": 26,
   "metadata": {},
   "outputs": [
    {
     "data": {
      "text/plain": [
       "[0.7080327967275319,\n",
       " 0.4293237321899831,\n",
       " 0.330842182611124,\n",
       " 1.2347745214167893,\n",
       " 0.5751466908204472,\n",
       " 0.2635403217554511,\n",
       " 0.7360743128562794,\n",
       " 0.5937321065022212,\n",
       " 0.6060428815695277,\n",
       " 0.9346009372615344]"
      ]
     },
     "execution_count": 26,
     "metadata": {},
     "output_type": "execute_result"
    }
   ],
   "source": [
    "ents"
   ]
  },
  {
   "cell_type": "code",
   "execution_count": 27,
   "metadata": {},
   "outputs": [
    {
     "data": {
      "text/plain": [
       "0.641211048371089"
      ]
     },
     "execution_count": 27,
     "metadata": {},
     "output_type": "execute_result"
    }
   ],
   "source": [
    "np.mean(ents)"
   ]
  },
  {
   "cell_type": "code",
   "execution_count": 28,
   "metadata": {},
   "outputs": [
    {
     "data": {
      "text/plain": [
       "0.2974374820554756"
      ]
     },
     "execution_count": 28,
     "metadata": {},
     "output_type": "execute_result"
    }
   ],
   "source": [
    "np.mean(jsds)"
   ]
  },
  {
   "cell_type": "code",
   "execution_count": 29,
   "metadata": {},
   "outputs": [],
   "source": [
    "# TODO: merge true values to compute entropy for each type individually"
   ]
  },
  {
   "cell_type": "code",
   "execution_count": 30,
   "metadata": {},
   "outputs": [],
   "source": [
    "types = [\"asphalt\", \"paved\", \"unpaved\"]\n",
    "ents = {}\n",
    "for type in types:\n",
    "    ents[type] = []\n",
    "for i in range(0, len(paths)):\n",
    "    rtk_type_pred_i = rtk_dsets[i]\n",
    "    for j in range(0, len(paths)):\n",
    "        if j <= i:\n",
    "            continue\n",
    "        rtk_type_pred_j = rtk_dsets[j]\n",
    "        for type in types:\n",
    "            # TODO: filter by true type\n",
    "            e = entropy(rtk_type_pred_i[rtk_type_pred_i[\"type_true\"]==type].Prediction, # rtk_dsets[i][rtk_dsets[i].true_type == type].Prediction,\n",
    "                            rtk_type_pred_j[rtk_type_pred_j[\"type_true\"]==type].Prediction, base=base) # rtk_dsets[j][rtk_dsets[j].true_type == type].Prediction,\n",
    "            ents[type].append(e)"
   ]
  },
  {
   "cell_type": "code",
   "execution_count": 31,
   "metadata": {},
   "outputs": [
    {
     "data": {
      "text/plain": [
       "{'asphalt': [0.311335727765581,\n",
       "  0.1744855091605928,\n",
       "  0.19329335858212524,\n",
       "  0.4646387576683817,\n",
       "  0.14373733054036744,\n",
       "  0.11810601473595767,\n",
       "  0.1559746114963259,\n",
       "  0.15190669637192536,\n",
       "  0.17935534048719565,\n",
       "  0.3289270153112079],\n",
       " 'paved': [0.4956412950070443,\n",
       "  0.635036347267402,\n",
       "  0.30515209298157786,\n",
       "  1.7672459016995592,\n",
       "  0.8443428230137626,\n",
       "  0.2991018097511743,\n",
       "  1.5792710902960594,\n",
       "  0.9931023769275665,\n",
       "  0.683214023766153,\n",
       "  1.551763703255125],\n",
       " 'unpaved': [3.2231715142879036,\n",
       "  0.84880004484146,\n",
       "  1.0352722042741935,\n",
       "  2.8143346055074856,\n",
       "  1.5616445729582322,\n",
       "  0.7890549011381611,\n",
       "  0.380122915900042,\n",
       "  1.1716520630994096,\n",
       "  2.2428077641025266,\n",
       "  1.4831924652702673]}"
      ]
     },
     "execution_count": 31,
     "metadata": {},
     "output_type": "execute_result"
    }
   ],
   "source": [
    "ents"
   ]
  },
  {
   "cell_type": "code",
   "execution_count": 32,
   "metadata": {},
   "outputs": [
    {
     "name": "stdout",
     "output_type": "stream",
     "text": [
      "asphalt: 0.22\n",
      "paved: 0.92\n",
      "unpaved: 1.56\n"
     ]
    }
   ],
   "source": [
    "# averaged entropy\n",
    "for ent in ents:\n",
    "    print(f\"{ent}: {np.mean(ents[ent]).round(2)}\")"
   ]
  },
  {
   "cell_type": "code",
   "execution_count": null,
   "metadata": {},
   "outputs": [],
   "source": []
  }
 ],
 "metadata": {
  "kernelspec": {
   "display_name": "sai_dc",
   "language": "python",
   "name": "python3"
  },
  "language_info": {
   "codemirror_mode": {
    "name": "ipython",
    "version": 3
   },
   "file_extension": ".py",
   "mimetype": "text/x-python",
   "name": "python",
   "nbconvert_exporter": "python",
   "pygments_lexer": "ipython3",
   "version": "3.10.13"
  }
 },
 "nbformat": 4,
 "nbformat_minor": 2
}
