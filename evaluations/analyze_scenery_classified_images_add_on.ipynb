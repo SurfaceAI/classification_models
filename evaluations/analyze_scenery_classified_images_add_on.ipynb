{
 "cells": [
  {
   "cell_type": "code",
   "execution_count": 77,
   "metadata": {},
   "outputs": [],
   "source": [
    "import pandas as pd\n",
    "from sklearn.metrics import precision_score, recall_score\n",
    "import os\n",
    "import numpy as np\n",
    "from sklearn.metrics import mean_squared_error, r2_score, confusion_matrix\n",
    "import matplotlib.pyplot as plt\n",
    "import seaborn as sns\n",
    "import shutil"
   ]
  },
  {
   "cell_type": "markdown",
   "metadata": {},
   "source": [
    "### manual reviewed images from classified_images_add_on folder = v4b with adapted labeling scheme"
   ]
  },
  {
   "cell_type": "code",
   "execution_count": 145,
   "metadata": {},
   "outputs": [],
   "source": [
    "data_metadata_path = os.path.join(\"..\", \"data\", \"road_scenery_experiment\", \"metadata\")\n",
    "\n",
    "roads_metadata_path = os.path.join(\"..\", \"data\", \"V1_0\")\n",
    "# rails_metadata_path = os.path.join(\"..\", \"data\", \"training\", \"V12\", \"metadata\")\n",
    "\n",
    "focus_data_path = os.path.join(\"..\", \"data\", \"V1_0\", \"s_1024\")\n",
    "no_focus_1_data_path = os.path.join(\"..\", \"data\", \"training\", \"V12\", \"annotated\", \"no_street\")\n",
    "no_focus_2_data_path = os.path.join(\"..\", \"data\", \"training\", \"V12\", \"annotated\", \"not_recognizable\")\n",
    "\n",
    "classified_images_path = os.path.join(\"..\", \"data\", \"road_scenery_experiment\")\n",
    "\n",
    "# new folder\n",
    "path_b = os.path.join(classified_images_path, \"classified_images_add_on_b\")\n",
    "os.makedirs(path_b, exist_ok=True)\n",
    "path_c = os.path.join(classified_images_path, \"classified_images_add_on_c\")\n",
    "os.makedirs(path_c, exist_ok=True)\n",
    "path_test = os.path.join(classified_images_path, \"test_classified_images\")\n",
    "os.makedirs(path_test, exist_ok=True)"
   ]
  },
  {
   "cell_type": "code",
   "execution_count": 94,
   "metadata": {},
   "outputs": [],
   "source": [
    "# annotations\n",
    "roads_file_name = \"v1_0_incl_roadtype.csv\"\n",
    "# rails_file_name = \"annotations_combined.csv\""
   ]
  },
  {
   "cell_type": "code",
   "execution_count": 117,
   "metadata": {},
   "outputs": [
    {
     "data": {
      "text/html": [
       "<div>\n",
       "<style scoped>\n",
       "    .dataframe tbody tr th:only-of-type {\n",
       "        vertical-align: middle;\n",
       "    }\n",
       "\n",
       "    .dataframe tbody tr th {\n",
       "        vertical-align: top;\n",
       "    }\n",
       "\n",
       "    .dataframe thead th {\n",
       "        text-align: right;\n",
       "    }\n",
       "</style>\n",
       "<table border=\"1\" class=\"dataframe\">\n",
       "  <thead>\n",
       "    <tr style=\"text-align: right;\">\n",
       "      <th></th>\n",
       "      <th>mapillary_image_id</th>\n",
       "      <th>user_id</th>\n",
       "      <th>user_name</th>\n",
       "      <th>captured_at</th>\n",
       "      <th>longitude</th>\n",
       "      <th>latitude</th>\n",
       "      <th>train</th>\n",
       "      <th>surface_type</th>\n",
       "      <th>surface_quality</th>\n",
       "      <th>roadtype</th>\n",
       "      <th>image_id</th>\n",
       "    </tr>\n",
       "  </thead>\n",
       "  <tbody>\n",
       "    <tr>\n",
       "      <th>0</th>\n",
       "      <td>1000927687276860</td>\n",
       "      <td>103606985215406</td>\n",
       "      <td>dsmm</td>\n",
       "      <td>1655735677353</td>\n",
       "      <td>13.287805</td>\n",
       "      <td>51.502597</td>\n",
       "      <td>True</td>\n",
       "      <td>concrete</td>\n",
       "      <td>intermediate</td>\n",
       "      <td>road(car)</td>\n",
       "      <td>1000927687276860</td>\n",
       "    </tr>\n",
       "    <tr>\n",
       "      <th>1</th>\n",
       "      <td>1001349260556407</td>\n",
       "      <td>102468835332129</td>\n",
       "      <td>ber319</td>\n",
       "      <td>1659015876793</td>\n",
       "      <td>14.426536</td>\n",
       "      <td>52.217757</td>\n",
       "      <td>True</td>\n",
       "      <td>unpaved</td>\n",
       "      <td>bad</td>\n",
       "      <td>path (unspecified)</td>\n",
       "      <td>1001349260556407</td>\n",
       "    </tr>\n",
       "    <tr>\n",
       "      <th>2</th>\n",
       "      <td>1001419624308587</td>\n",
       "      <td>100232345559807</td>\n",
       "      <td>carlheinz</td>\n",
       "      <td>1698249177500</td>\n",
       "      <td>13.457938</td>\n",
       "      <td>52.512914</td>\n",
       "      <td>True</td>\n",
       "      <td>asphalt</td>\n",
       "      <td>good</td>\n",
       "      <td>road(car)</td>\n",
       "      <td>1001419624308587</td>\n",
       "    </tr>\n",
       "    <tr>\n",
       "      <th>3</th>\n",
       "      <td>1001712924422413</td>\n",
       "      <td>100232345559807</td>\n",
       "      <td>carlheinz</td>\n",
       "      <td>1699107239000</td>\n",
       "      <td>13.386874</td>\n",
       "      <td>52.564970</td>\n",
       "      <td>True</td>\n",
       "      <td>concrete</td>\n",
       "      <td>excellent</td>\n",
       "      <td>path (unspecified)</td>\n",
       "      <td>1001712924422413</td>\n",
       "    </tr>\n",
       "    <tr>\n",
       "      <th>4</th>\n",
       "      <td>1001853784055707</td>\n",
       "      <td>102627028648372</td>\n",
       "      <td>kartonage</td>\n",
       "      <td>1652268883000</td>\n",
       "      <td>13.389880</td>\n",
       "      <td>52.546260</td>\n",
       "      <td>True</td>\n",
       "      <td>asphalt</td>\n",
       "      <td>excellent</td>\n",
       "      <td>road(car)</td>\n",
       "      <td>1001853784055707</td>\n",
       "    </tr>\n",
       "    <tr>\n",
       "      <th>...</th>\n",
       "      <td>...</td>\n",
       "      <td>...</td>\n",
       "      <td>...</td>\n",
       "      <td>...</td>\n",
       "      <td>...</td>\n",
       "      <td>...</td>\n",
       "      <td>...</td>\n",
       "      <td>...</td>\n",
       "      <td>...</td>\n",
       "      <td>...</td>\n",
       "      <td>...</td>\n",
       "    </tr>\n",
       "    <tr>\n",
       "      <th>9117</th>\n",
       "      <td>435956961754271</td>\n",
       "      <td>103080845264750</td>\n",
       "      <td>teddy73</td>\n",
       "      <td>1657610360090</td>\n",
       "      <td>9.227063</td>\n",
       "      <td>49.181487</td>\n",
       "      <td>False</td>\n",
       "      <td>asphalt</td>\n",
       "      <td>good</td>\n",
       "      <td>road / path</td>\n",
       "      <td>435956961754271</td>\n",
       "    </tr>\n",
       "    <tr>\n",
       "      <th>9118</th>\n",
       "      <td>152523294419317</td>\n",
       "      <td>103080845264750</td>\n",
       "      <td>teddy73</td>\n",
       "      <td>1681130193000</td>\n",
       "      <td>9.179631</td>\n",
       "      <td>49.120123</td>\n",
       "      <td>False</td>\n",
       "      <td>asphalt</td>\n",
       "      <td>excellent</td>\n",
       "      <td>road / path</td>\n",
       "      <td>152523294419317</td>\n",
       "    </tr>\n",
       "    <tr>\n",
       "      <th>9119</th>\n",
       "      <td>303366287999275</td>\n",
       "      <td>100562292188203</td>\n",
       "      <td>changchun1</td>\n",
       "      <td>1612977717350</td>\n",
       "      <td>9.172729</td>\n",
       "      <td>49.106565</td>\n",
       "      <td>False</td>\n",
       "      <td>unpaved</td>\n",
       "      <td>bad</td>\n",
       "      <td>road / path</td>\n",
       "      <td>303366287999275</td>\n",
       "    </tr>\n",
       "    <tr>\n",
       "      <th>9120</th>\n",
       "      <td>563555448482947</td>\n",
       "      <td>100562292188203</td>\n",
       "      <td>changchun1</td>\n",
       "      <td>1654801255232</td>\n",
       "      <td>9.176029</td>\n",
       "      <td>49.098283</td>\n",
       "      <td>False</td>\n",
       "      <td>asphalt</td>\n",
       "      <td>excellent</td>\n",
       "      <td>road / path</td>\n",
       "      <td>563555448482947</td>\n",
       "    </tr>\n",
       "    <tr>\n",
       "      <th>9121</th>\n",
       "      <td>1068388274103113</td>\n",
       "      <td>103080845264750</td>\n",
       "      <td>teddy73</td>\n",
       "      <td>1656260065000</td>\n",
       "      <td>9.148292</td>\n",
       "      <td>49.198741</td>\n",
       "      <td>False</td>\n",
       "      <td>asphalt</td>\n",
       "      <td>excellent</td>\n",
       "      <td>cycleway</td>\n",
       "      <td>1068388274103113</td>\n",
       "    </tr>\n",
       "  </tbody>\n",
       "</table>\n",
       "<p>9122 rows × 11 columns</p>\n",
       "</div>"
      ],
      "text/plain": [
       "      mapillary_image_id          user_id   user_name    captured_at  \\\n",
       "0       1000927687276860  103606985215406        dsmm  1655735677353   \n",
       "1       1001349260556407  102468835332129      ber319  1659015876793   \n",
       "2       1001419624308587  100232345559807   carlheinz  1698249177500   \n",
       "3       1001712924422413  100232345559807   carlheinz  1699107239000   \n",
       "4       1001853784055707  102627028648372   kartonage  1652268883000   \n",
       "...                  ...              ...         ...            ...   \n",
       "9117     435956961754271  103080845264750     teddy73  1657610360090   \n",
       "9118     152523294419317  103080845264750     teddy73  1681130193000   \n",
       "9119     303366287999275  100562292188203  changchun1  1612977717350   \n",
       "9120     563555448482947  100562292188203  changchun1  1654801255232   \n",
       "9121    1068388274103113  103080845264750     teddy73  1656260065000   \n",
       "\n",
       "      longitude   latitude  train surface_type surface_quality  \\\n",
       "0     13.287805  51.502597   True     concrete    intermediate   \n",
       "1     14.426536  52.217757   True      unpaved             bad   \n",
       "2     13.457938  52.512914   True      asphalt            good   \n",
       "3     13.386874  52.564970   True     concrete       excellent   \n",
       "4     13.389880  52.546260   True      asphalt       excellent   \n",
       "...         ...        ...    ...          ...             ...   \n",
       "9117   9.227063  49.181487  False      asphalt            good   \n",
       "9118   9.179631  49.120123  False      asphalt       excellent   \n",
       "9119   9.172729  49.106565  False      unpaved             bad   \n",
       "9120   9.176029  49.098283  False      asphalt       excellent   \n",
       "9121   9.148292  49.198741  False      asphalt       excellent   \n",
       "\n",
       "                roadtype          image_id  \n",
       "0              road(car)  1000927687276860  \n",
       "1     path (unspecified)  1001349260556407  \n",
       "2              road(car)  1001419624308587  \n",
       "3     path (unspecified)  1001712924422413  \n",
       "4              road(car)  1001853784055707  \n",
       "...                  ...               ...  \n",
       "9117         road / path   435956961754271  \n",
       "9118         road / path   152523294419317  \n",
       "9119         road / path   303366287999275  \n",
       "9120         road / path   563555448482947  \n",
       "9121            cycleway  1068388274103113  \n",
       "\n",
       "[9122 rows x 11 columns]"
      ]
     },
     "execution_count": 117,
     "metadata": {},
     "output_type": "execute_result"
    }
   ],
   "source": [
    "roads = pd.read_csv(os.path.join(roads_metadata_path, roads_file_name))\n",
    "# rails = pd.read_csv(os.path.join(rails_metadata_path, rails_file_name))\n",
    "roads[\"image_id\"] = roads[\"mapillary_image_id\"].astype(\"string\")\n",
    "roads"
   ]
  },
  {
   "cell_type": "code",
   "execution_count": 139,
   "metadata": {},
   "outputs": [
    {
     "data": {
      "text/plain": [
       "roadtype\n",
       "cycleway                632\n",
       "cycleway (Hochbord)     108\n",
       "cycleway (lane)           3\n",
       "nature path              11\n",
       "path (unspecified)     2569\n",
       "pedestrian              820\n",
       "pedestrian area          12\n",
       "road / path             613\n",
       "road(car)              3787\n",
       "sidewalk                173\n",
       "Name: image_id, dtype: int64"
      ]
     },
     "execution_count": 139,
     "metadata": {},
     "output_type": "execute_result"
    }
   ],
   "source": [
    "roads.groupby(\"roadtype\")[\"image_id\"].count()"
   ]
  },
  {
   "cell_type": "code",
   "execution_count": 96,
   "metadata": {},
   "outputs": [],
   "source": [
    "def count_images_per_version(images):\n",
    "    list_V1_0 = []\n",
    "    list_V12 = []\n",
    "    for image_id in images:\n",
    "        if image_id in roads[\"image_id\"].values:\n",
    "            list_V1_0.append(image_id)\n",
    "        else:\n",
    "            list_V12.append(image_id)\n",
    "    print(f\"V1_0: {len(list_V1_0)}\")\n",
    "    print(f\"V12 : {len(list_V12)}\")\n",
    "\n",
    "def copy_images(images, folder_0, folder_1):\n",
    "    # store manually classified images in folder\n",
    "    for image_id in images: \n",
    "        # find original path\n",
    "        img_path = ''\n",
    "        if img_path == '':\n",
    "            directory = focus_data_path\n",
    "            for root, _, fnames in sorted(os.walk(directory, followlinks=True)):\n",
    "                for fname in sorted(fnames):\n",
    "                    if image_id == os.path.splitext(fname)[0]:\n",
    "                        img_path = root\n",
    "        if img_path == '':\n",
    "            directory = no_focus_1_data_path\n",
    "            for root, _, fnames in sorted(os.walk(directory, followlinks=True)):\n",
    "                for fname in sorted(fnames):\n",
    "                    if image_id == os.path.splitext(fname)[0]:\n",
    "                        img_path = root\n",
    "        if img_path == '':\n",
    "            directory = no_focus_2_data_path\n",
    "            for root, _, fnames in sorted(os.walk(directory, followlinks=True)):\n",
    "                for fname in sorted(fnames):\n",
    "                    if image_id == os.path.splitext(fname)[0]:\n",
    "                        img_path = root\n",
    "        # print(img_path)    \n",
    "        # copy image from original path\n",
    "        if img_path == '':\n",
    "            print(\"image not found\")\n",
    "        else:\n",
    "            destination_folder_path = os.path.join(path_b, folder_0, folder_1)\n",
    "            os.makedirs(destination_folder_path, exist_ok=True)\n",
    "            image_filename = os.path.join(img_path, f\"{image_id}.jpg\")\n",
    "            shutil.copy(image_filename, destination_folder_path)\n",
    "    print(\"images copied.\")"
   ]
  },
  {
   "cell_type": "markdown",
   "metadata": {},
   "source": [
    "#### 1_1_rails_on_road"
   ]
  },
  {
   "cell_type": "code",
   "execution_count": 97,
   "metadata": {},
   "outputs": [
    {
     "name": "stdout",
     "output_type": "stream",
     "text": [
      "V1_0: 2\n",
      "V12 : 1\n",
      "images copied.\n"
     ]
    }
   ],
   "source": [
    "images = [\n",
    "    '221161713149925',\n",
    "    '169832331809758',\n",
    "    '253370653147368',\n",
    "]\n",
    "folder_0 = '1_1_road'\n",
    "folder_1 = '1_1_rails_on_road'\n",
    "\n",
    "count_images_per_version(images=images)\n",
    "copy_images(images=images, folder_0=folder_0, folder_1=folder_1)"
   ]
  },
  {
   "cell_type": "markdown",
   "metadata": {},
   "source": [
    "#### 1_1_road_general"
   ]
  },
  {
   "cell_type": "code",
   "execution_count": 98,
   "metadata": {},
   "outputs": [
    {
     "name": "stdout",
     "output_type": "stream",
     "text": [
      "V1_0: 23\n",
      "V12 : 14\n",
      "images copied.\n"
     ]
    }
   ],
   "source": [
    "images = [\n",
    "    '116226134367703',\n",
    "    '848854242505441',\n",
    "    '918908606618366',\n",
    "    '950024289091801',\n",
    "    '1050942202320681',\n",
    "    '344993797586136',\n",
    "    '1829362023906325',\n",
    "    '183985896927301',\n",
    "    '204079172180318',\n",
    "    '266120208588107',\n",
    "    '266949115758514',\n",
    "    '279256010593903',\n",
    "    '300945445072687',\n",
    "    '451534342810972',\n",
    "    '519968362346653',\n",
    "    '753555371993719',\n",
    "    '921669361831221',\n",
    "    '3908271332733799',\n",
    "    '3987674981309635',\n",
    "    '173780227985752',\n",
    "    '173948484732553',\n",
    "    '196735465622056',\n",
    "    '218718489705578',\n",
    "    '286196716535769',\n",
    "    '477515223457749',\n",
    "    '582003383203689',\n",
    "    '614095730069612',\n",
    "    '1106452096555277',\n",
    "    '2868254156774123',\n",
    "    '215445400383578',\n",
    "    '477720423548792',\n",
    "    '1154482918347377',\n",
    "    '3482275121874721',\n",
    "    '796521804600796',\n",
    "    '1541644216575062',\n",
    "    '320173627129723',\n",
    "    '1025839491875203',\n",
    "    \n",
    "]\n",
    "folder_0 = '1_1_road'\n",
    "folder_1 = '1_1_road_general'\n",
    "\n",
    "count_images_per_version(images=images)\n",
    "copy_images(images=images, folder_0=folder_0, folder_1=folder_1)"
   ]
  },
  {
   "cell_type": "markdown",
   "metadata": {},
   "source": [
    "#### 1_2_cycleway"
   ]
  },
  {
   "cell_type": "code",
   "execution_count": 99,
   "metadata": {},
   "outputs": [
    {
     "name": "stdout",
     "output_type": "stream",
     "text": [
      "V1_0: 8\n",
      "V12 : 1\n",
      "images copied.\n"
     ]
    }
   ],
   "source": [
    "images = [\n",
    "    '972054073520951',\n",
    "    '978835482856480',\n",
    "    '1215094608930318',\n",
    "    '480909003363888',\n",
    "    '301607931491044',\n",
    "    '2790059851304330',\n",
    "    '510299086656980',\n",
    "    '2249463938545633',\n",
    "    '1359774084884097',\n",
    "\n",
    "]\n",
    "folder_0 = '1_2_bicycle'\n",
    "folder_1 = '1_2_cycleway'\n",
    "\n",
    "count_images_per_version(images=images)\n",
    "copy_images(images=images, folder_0=folder_0, folder_1=folder_1)"
   ]
  },
  {
   "cell_type": "markdown",
   "metadata": {},
   "source": [
    "#### 1_2_lane"
   ]
  },
  {
   "cell_type": "code",
   "execution_count": 100,
   "metadata": {},
   "outputs": [
    {
     "name": "stdout",
     "output_type": "stream",
     "text": [
      "V1_0: 5\n",
      "V12 : 0\n",
      "images copied.\n"
     ]
    }
   ],
   "source": [
    "images = [\n",
    "    '624988475969800',\n",
    "    '989857672036153',\n",
    "    '3279640285599984',\n",
    "    '753310445346502',\n",
    "    '1407324080073515',\n",
    "\n",
    "]\n",
    "folder_0 = '1_2_bicycle'\n",
    "folder_1 = '1_2_lane'\n",
    "\n",
    "count_images_per_version(images=images)\n",
    "copy_images(images=images, folder_0=folder_0, folder_1=folder_1)"
   ]
  },
  {
   "cell_type": "markdown",
   "metadata": {},
   "source": [
    "#### 1_3_footway"
   ]
  },
  {
   "cell_type": "code",
   "execution_count": 101,
   "metadata": {},
   "outputs": [
    {
     "name": "stdout",
     "output_type": "stream",
     "text": [
      "V1_0: 24\n",
      "V12 : 3\n",
      "images copied.\n"
     ]
    }
   ],
   "source": [
    "images = [\n",
    "    '1839147786254721',\n",
    "    '136629909310612',\n",
    "    '245602324194279',\n",
    "    '419574676987277',\n",
    "    '481582810113525',\n",
    "    '991428678263320',\n",
    "    '197494732097614',\n",
    "    '286671793116773',\n",
    "    '299291965157820',\n",
    "    '326816338874331',\n",
    "    '499839418126899',\n",
    "    '196798938945460',\n",
    "    '221553542747918',\n",
    "    '869315276953721',\n",
    "    '473831378230203',\n",
    "    '174612247947003',\n",
    "    '290847905877203',\n",
    "    '378034133460413',\n",
    "    '499677204516456',\n",
    "    '535107560838134',\n",
    "    '926212044609318',\n",
    "    '945279133269517',\n",
    "    '1103271800178577',\n",
    "    '1148622429040835',\n",
    "    '319481369561010',\n",
    "    '812781093559893',\n",
    "    '147832250559631',\n",
    "\n",
    "]\n",
    "folder_0 = '1_3_pedestrian'\n",
    "folder_1 = '1_3_footway'\n",
    "\n",
    "count_images_per_version(images=images)\n",
    "copy_images(images=images, folder_0=folder_0, folder_1=folder_1)"
   ]
  },
  {
   "cell_type": "markdown",
   "metadata": {},
   "source": [
    "#### 1_3_railway_platform"
   ]
  },
  {
   "cell_type": "code",
   "execution_count": 102,
   "metadata": {},
   "outputs": [
    {
     "name": "stdout",
     "output_type": "stream",
     "text": [
      "V1_0: 0\n",
      "V12 : 1\n",
      "images copied.\n"
     ]
    }
   ],
   "source": [
    "images = [\n",
    "    '484658582793742',\n",
    "\n",
    "]\n",
    "folder_0 = '1_3_pedestrian'\n",
    "folder_1 = '1_3_railway_platform'\n",
    "\n",
    "count_images_per_version(images=images)\n",
    "copy_images(images=images, folder_0=folder_0, folder_1=folder_1)"
   ]
  },
  {
   "cell_type": "markdown",
   "metadata": {},
   "source": [
    "#### 1_4_path_unspecified"
   ]
  },
  {
   "cell_type": "code",
   "execution_count": 103,
   "metadata": {},
   "outputs": [
    {
     "name": "stdout",
     "output_type": "stream",
     "text": [
      "V1_0: 80\n",
      "V12 : 22\n",
      "images copied.\n"
     ]
    }
   ],
   "source": [
    "images = [\n",
    "    '1026867184724352',\n",
    "    '2592796111026066',\n",
    "    '2761012494163934',\n",
    "    '2854159114839880',\n",
    "    '442186417698926',\n",
    "    '487555790173627',\n",
    "    '218000296514945',\n",
    "    '219498599981563',\n",
    "    '222864689372166',\n",
    "    '244895674067208',\n",
    "    '487991572804462',\n",
    "    '506508233820143',\n",
    "    '463596594870396',\n",
    "    '124060540040970',\n",
    "    '223335419220306',\n",
    "    '241411111107395',\n",
    "    '263417145477211',\n",
    "    '328372752084666',\n",
    "    '406182564813130',\n",
    "    '517956436289045',\n",
    "    '737581974277337',\n",
    "    '747947762539432',\n",
    "    '1075801136278537',\n",
    "    '1946275238856744',\n",
    "    '2804168709834725',\n",
    "    '115272391257642',\n",
    "    '116688777432358',\n",
    "    '150418520289088',\n",
    "    '159666206102483',\n",
    "    '293602322216891',\n",
    "    '294585238740754',\n",
    "    '298866831687977',\n",
    "    '302893904569363',\n",
    "    '367072628017330',\n",
    "    '379871647104999',\n",
    "    '446304400560943',\n",
    "    '489200056203229',\n",
    "    '499910875082102',\n",
    "    '529816658428785',\n",
    "    '900838930761517',\n",
    "    '1283390972210717',\n",
    "    '4412362475462200',\n",
    "    '214962446826304',\n",
    "    '231778258745160',\n",
    "    '332147712156247',\n",
    "    '369922577728324',\n",
    "    '387727523300875',\n",
    "    '502981427947417',\n",
    "    '510760020525622',\n",
    "    '532060294833202',\n",
    "    '968744757200696',\n",
    "    '972874383554080',\n",
    "    '477090190196309',\n",
    "    '291853759271655',\n",
    "    '295433112116798',\n",
    "    '295969965405543',\n",
    "    '312308850494391',\n",
    "    '390634795785055',\n",
    "    '767159560840267',\n",
    "    '775730993067142',\n",
    "    '115596197541937',\n",
    "    '147155400663559',\n",
    "    '149580297072234',\n",
    "    '161085605952805',\n",
    "    '177035940937162',\n",
    "    '211837607078863',\n",
    "    '229997005171631',\n",
    "    '297364688463362',\n",
    "    '336639397809408',\n",
    "    '465828381146658',\n",
    "    '527611928400376',\n",
    "    '533989854277826',\n",
    "    '748644372493436',\n",
    "    '854499018469277',\n",
    "    '862926044294045',\n",
    "    '917164212396751',\n",
    "    '963070594462537',\n",
    "    '1101994970276453',\n",
    "    '1208204933182414',\n",
    "    '1403630246682750',\n",
    "    '1424818291203908',\n",
    "    '1426382634372444',\n",
    "    '3460673977544242',\n",
    "    '3497809510452245',\n",
    "    '3607652592671079',\n",
    "    '4301645763220600',\n",
    "    '148645153931760',\n",
    "    '193172985988756',\n",
    "    '326695868884464',\n",
    "    '440440181191674',\n",
    "    '450855000019304',\n",
    "    '518554816231216',\n",
    "    '698649858502682',\n",
    "    '814950900279217',\n",
    "    '949587752510420',\n",
    "    '979924692751693',\n",
    "    '4022491164502097',\n",
    "    '180217147289257',\n",
    "    '472687841714738',\n",
    "    '789418778880343',\n",
    "    '1580934648981725',\n",
    "    '2792191921093322',\n",
    "\n",
    "]\n",
    "folder_0 = '1_4_path'\n",
    "folder_1 = '1_4_path_unspecified'\n",
    "\n",
    "count_images_per_version(images=images)\n",
    "copy_images(images=images, folder_0=folder_0, folder_1=folder_1)"
   ]
  },
  {
   "cell_type": "markdown",
   "metadata": {},
   "source": [
    "#### 2_1_all"
   ]
  },
  {
   "cell_type": "code",
   "execution_count": 104,
   "metadata": {},
   "outputs": [
    {
     "name": "stdout",
     "output_type": "stream",
     "text": [
      "V1_0: 30\n",
      "V12 : 34\n",
      "images copied.\n"
     ]
    }
   ],
   "source": [
    "images = [\n",
    "    '799077210983910',\n",
    "    '1375697869572806',\n",
    "    '388685622320862',\n",
    "    '614378786172794',\n",
    "    '753276885302923',\n",
    "    '2892226361050163',\n",
    "    '5462830377092634',\n",
    "    '150287681206019',\n",
    "    '213893441055859',\n",
    "    '217046179960564',\n",
    "    '219182906374670',\n",
    "    '220854309805609',\n",
    "    '221613619297854',\n",
    "    '241075517817065',\n",
    "    '281343288218409',\n",
    "    '290615755884615',\n",
    "    '290647182725960',\n",
    "    '292308855860665',\n",
    "    '293772545568960',\n",
    "    '471160640609447',\n",
    "    '626801255067300',\n",
    "    '679336479935005',\n",
    "    '694568368405325',\n",
    "    '698056955233999',\n",
    "    '761178301250563',\n",
    "    '774084846620088',\n",
    "    '894431858639782',\n",
    "    '908532619931153',\n",
    "    '933077960872514',\n",
    "    '2806083429705411',\n",
    "    '4042645752457954',\n",
    "    '6273449889374724',\n",
    "    '275700997640876',\n",
    "    '297267685295531',\n",
    "    '467515047872343',\n",
    "    '522383155432702',\n",
    "    '561243495263912',\n",
    "    '726159688466990',\n",
    "    '793180855795498',\n",
    "    '180689270633134',\n",
    "    '196310018979669',\n",
    "    '308681570756945',\n",
    "    '314571826842492',\n",
    "    '461836511711416',\n",
    "    '484206869516268',\n",
    "    '563614909181287',\n",
    "    '583781422600969',\n",
    "    '749419355731155',\n",
    "    '826858871257367',\n",
    "    '1055988138140399',\n",
    "    '1380571488982401',\n",
    "    '4473506466007149',\n",
    "    '232730755314875',\n",
    "    '705360803771160',\n",
    "    '176078024400410',\n",
    "    '258242096028720',\n",
    "    '319083883015178',\n",
    "    '475570117291326',\n",
    "    '513751499808441',\n",
    "    '527181768456836',\n",
    "    '1109077039584930',\n",
    "    '1366664490507089',\n",
    "    '3921022881358538',\n",
    "    '4118228834905630',\n",
    "\n",
    "]\n",
    "folder_0 = '2_1_no_focus_no_street'\n",
    "folder_1 = '2_1_all'\n",
    "\n",
    "count_images_per_version(images=images)\n",
    "copy_images(images=images, folder_0=folder_0, folder_1=folder_1)"
   ]
  },
  {
   "cell_type": "markdown",
   "metadata": {},
   "source": [
    "#### 2_1_surface_covered"
   ]
  },
  {
   "cell_type": "code",
   "execution_count": 105,
   "metadata": {},
   "outputs": [
    {
     "name": "stdout",
     "output_type": "stream",
     "text": [
      "V1_0: 0\n",
      "V12 : 3\n",
      "images copied.\n"
     ]
    }
   ],
   "source": [
    "images = [\n",
    "    '1034099547123945',\n",
    "    '1390553837972341',\n",
    "    '3454581384778856',\n",
    "\n",
    "]\n",
    "folder_0 = '2_1_no_focus_no_street'\n",
    "folder_1 = '2_1_surface_covered'\n",
    "\n",
    "count_images_per_version(images=images)\n",
    "copy_images(images=images, folder_0=folder_0, folder_1=folder_1)"
   ]
  },
  {
   "cell_type": "markdown",
   "metadata": {},
   "source": [
    "### remaining V1_0 images sorted by road type annotation in label studio"
   ]
  },
  {
   "cell_type": "code",
   "execution_count": 108,
   "metadata": {},
   "outputs": [],
   "source": [
    "# annotated scenery images files\n",
    "annotated_scenery_files = [\n",
    "    'annotations_scenery_v3.csv',\n",
    "    'annotations_scenery_v4a.csv',\n",
    "    'annotations_scenery_v4b.csv',\n",
    "]"
   ]
  },
  {
   "cell_type": "code",
   "execution_count": 110,
   "metadata": {},
   "outputs": [
    {
     "data": {
      "text/plain": [
       "image_id\n",
       "1002484893825364    1\n",
       "1205849419855089    1\n",
       "123319973327041     1\n",
       "122799386488232     1\n",
       "1226425001093665    1\n",
       "                   ..\n",
       "321890382776443     1\n",
       "320675572788752     1\n",
       "320672532916325     1\n",
       "319113172920647     1\n",
       "933077960872514     1\n",
       "Name: count, Length: 6597, dtype: int64"
      ]
     },
     "execution_count": 110,
     "metadata": {},
     "output_type": "execute_result"
    }
   ],
   "source": [
    "annot = pd.DataFrame()\n",
    "for file in annotated_scenery_files:\n",
    "    df = pd.read_csv(os.path.join(data_metadata_path, file))\n",
    "    annot = pd.concat([annot, df], ignore_index=True)\n",
    "annot.set_index('image_id').index.value_counts()"
   ]
  },
  {
   "cell_type": "code",
   "execution_count": 115,
   "metadata": {},
   "outputs": [],
   "source": [
    "annot = annot[[\"image_id\", \"road_scenery\"]]\n",
    "annot[\"image_id\"] = annot[\"image_id\"].astype(\"string\")"
   ]
  },
  {
   "cell_type": "code",
   "execution_count": 147,
   "metadata": {},
   "outputs": [
    {
     "name": "stdout",
     "output_type": "stream",
     "text": [
      "(9122, 11)\n"
     ]
    },
    {
     "data": {
      "text/plain": [
       "roadtype\n",
       "cycleway               271\n",
       "cycleway (Hochbord)     12\n",
       "path (unspecified)     576\n",
       "pedestrian             554\n",
       "pedestrian area          2\n",
       "road / path            613\n",
       "road(car)              954\n",
       "sidewalk               149\n",
       "Name: mapillary_image_id, dtype: int64"
      ]
     },
     "execution_count": 147,
     "metadata": {},
     "output_type": "execute_result"
    }
   ],
   "source": [
    "print(roads.shape)\n",
    "remaining = roads[~roads[\"image_id\"].isin(annot[\"image_id\"])].set_index(\"image_id\")\n",
    "remaining.groupby(\"roadtype\")[\"mapillary_image_id\"].count()"
   ]
  },
  {
   "cell_type": "code",
   "execution_count": 135,
   "metadata": {},
   "outputs": [
    {
     "name": "stdout",
     "output_type": "stream",
     "text": [
      "images copied.\n"
     ]
    }
   ],
   "source": [
    "directory = focus_data_path\n",
    "for root, _, fnames in sorted(os.walk(directory, followlinks=True)):\n",
    "    for fname in sorted(fnames):\n",
    "        image_id = os.path.splitext(fname)[0]\n",
    "        if image_id in remaining.index:\n",
    "            if remaining.loc[image_id][\"roadtype\"] in [\n",
    "                'cycleway',\n",
    "                'cycleway (Hochbord)',\n",
    "                'cycleway (lane)',\n",
    "                'pedestrian',\n",
    "                'sidewalk',\n",
    "            ]:\n",
    "                destination_folder_path = os.path.join(path_c, remaining.loc[image_id][\"roadtype\"])\n",
    "                os.makedirs(destination_folder_path, exist_ok=True)\n",
    "                image_filename = os.path.join(root, fname)\n",
    "                shutil.copy(image_filename, destination_folder_path)\n",
    "\n",
    "print(\"images copied.\")"
   ]
  },
  {
   "cell_type": "markdown",
   "metadata": {},
   "source": [
    "#### remove test images from"
   ]
  },
  {
   "cell_type": "code",
   "execution_count": 151,
   "metadata": {},
   "outputs": [
    {
     "name": "stdout",
     "output_type": "stream",
     "text": [
      "images deleted.\n"
     ]
    }
   ],
   "source": [
    "directory = path_c\n",
    "for root, _, fnames in sorted(os.walk(directory, followlinks=True)):\n",
    "    for fname in sorted(fnames):\n",
    "        image_id = os.path.splitext(fname)[0]\n",
    "        if image_id in remaining.index:\n",
    "            if remaining.loc[image_id][\"train\"] == False:\n",
    "                image_filename = os.path.join(root, fname)\n",
    "                rel_path = os.path.relpath(root, path_c)\n",
    "                destination_folder_path = os.path.join(path_test, rel_path)\n",
    "                os.makedirs(destination_folder_path, exist_ok=True)\n",
    "                shutil.copy(image_filename, destination_folder_path)\n",
    "\n",
    "print(\"images deleted.\")"
   ]
  },
  {
   "cell_type": "code",
   "execution_count": null,
   "metadata": {},
   "outputs": [],
   "source": []
  }
 ],
 "metadata": {
  "kernelspec": {
   "display_name": ".venv",
   "language": "python",
   "name": "python3"
  },
  "language_info": {
   "codemirror_mode": {
    "name": "ipython",
    "version": 3
   },
   "file_extension": ".py",
   "mimetype": "text/x-python",
   "name": "python",
   "nbconvert_exporter": "python",
   "pygments_lexer": "ipython3",
   "version": "3.10.13"
  }
 },
 "nbformat": 4,
 "nbformat_minor": 2
}
