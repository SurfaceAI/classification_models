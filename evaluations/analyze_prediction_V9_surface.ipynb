{
 "cells": [
  {
   "cell_type": "code",
   "execution_count": 58,
   "metadata": {},
   "outputs": [],
   "source": [
    "import pandas as pd\n",
    "from sklearn.metrics import precision_score, recall_score\n",
    "import os\n",
    "import numpy as np\n",
    "from sklearn.metrics import mean_squared_error, r2_score, confusion_matrix\n",
    "import matplotlib.pyplot as plt\n",
    "import seaborn as sns"
   ]
  },
  {
   "cell_type": "code",
   "execution_count": 59,
   "metadata": {},
   "outputs": [],
   "source": [
    "ds_version = \"V9\"\n",
    "root_data_path = os.path.join(\"..\", \"data\", \"training\", ds_version)\n",
    "data_path = os.path.join(root_data_path, \"metadata\")"
   ]
  },
  {
   "cell_type": "code",
   "execution_count": 60,
   "metadata": {},
   "outputs": [],
   "source": [
    "# with cropping\n",
    "file_name = \"effnet_surface_quality_prediction-V9_annotated-20240315_175122.csv\""
   ]
  },
  {
   "cell_type": "code",
   "execution_count": 61,
   "metadata": {},
   "outputs": [
    {
     "name": "stdout",
     "output_type": "stream",
     "text": [
      "reading effnet_surface_quality_prediction-V9_annotated-20240315_175122.csv\n"
     ]
    }
   ],
   "source": [
    "pred = pd.DataFrame()\n",
    "# surface = file_name.split(\"_\")[0]\n",
    "print(f\"reading {file_name}\")\n",
    "df = pd.read_csv(os.path.join(data_path, \"model_predictions\", file_name))\n",
    "# df[\"surface_pred\"] = surface\n",
    "pred = pd.concat([pred, df])\n",
    "\n",
    "pred.rename(columns={\"Image\": \"image_id\", \"Prediction\": \"surface_probability\", \"Level_0\": \"surface_label_pred\"}, inplace=True)"
   ]
  },
  {
   "cell_type": "code",
   "execution_count": 62,
   "metadata": {},
   "outputs": [
    {
     "data": {
      "text/html": [
       "<div>\n",
       "<style scoped>\n",
       "    .dataframe tbody tr th:only-of-type {\n",
       "        vertical-align: middle;\n",
       "    }\n",
       "\n",
       "    .dataframe tbody tr th {\n",
       "        vertical-align: top;\n",
       "    }\n",
       "\n",
       "    .dataframe thead th {\n",
       "        text-align: right;\n",
       "    }\n",
       "</style>\n",
       "<table border=\"1\" class=\"dataframe\">\n",
       "  <thead>\n",
       "    <tr style=\"text-align: right;\">\n",
       "      <th></th>\n",
       "      <th>image_id</th>\n",
       "      <th>surface_probability</th>\n",
       "      <th>surface_label_pred</th>\n",
       "      <th>is_in_validation</th>\n",
       "    </tr>\n",
       "  </thead>\n",
       "  <tbody>\n",
       "    <tr>\n",
       "      <th>0</th>\n",
       "      <td>1108901116248517</td>\n",
       "      <td>0.985029</td>\n",
       "      <td>asphalt</td>\n",
       "      <td>0.0</td>\n",
       "    </tr>\n",
       "    <tr>\n",
       "      <th>1</th>\n",
       "      <td>1108901116248517</td>\n",
       "      <td>0.013105</td>\n",
       "      <td>concrete</td>\n",
       "      <td>0.0</td>\n",
       "    </tr>\n",
       "    <tr>\n",
       "      <th>2</th>\n",
       "      <td>1108901116248517</td>\n",
       "      <td>0.000046</td>\n",
       "      <td>paving_stones</td>\n",
       "      <td>0.0</td>\n",
       "    </tr>\n",
       "    <tr>\n",
       "      <th>3</th>\n",
       "      <td>1108901116248517</td>\n",
       "      <td>0.000687</td>\n",
       "      <td>sett</td>\n",
       "      <td>0.0</td>\n",
       "    </tr>\n",
       "    <tr>\n",
       "      <th>4</th>\n",
       "      <td>1108901116248517</td>\n",
       "      <td>0.001133</td>\n",
       "      <td>unpaved</td>\n",
       "      <td>0.0</td>\n",
       "    </tr>\n",
       "    <tr>\n",
       "      <th>...</th>\n",
       "      <td>...</td>\n",
       "      <td>...</td>\n",
       "      <td>...</td>\n",
       "      <td>...</td>\n",
       "    </tr>\n",
       "    <tr>\n",
       "      <th>46910</th>\n",
       "      <td>959327628152817</td>\n",
       "      <td>0.000126</td>\n",
       "      <td>asphalt</td>\n",
       "      <td>0.0</td>\n",
       "    </tr>\n",
       "    <tr>\n",
       "      <th>46911</th>\n",
       "      <td>959327628152817</td>\n",
       "      <td>0.000045</td>\n",
       "      <td>concrete</td>\n",
       "      <td>0.0</td>\n",
       "    </tr>\n",
       "    <tr>\n",
       "      <th>46912</th>\n",
       "      <td>959327628152817</td>\n",
       "      <td>0.000112</td>\n",
       "      <td>paving_stones</td>\n",
       "      <td>0.0</td>\n",
       "    </tr>\n",
       "    <tr>\n",
       "      <th>46913</th>\n",
       "      <td>959327628152817</td>\n",
       "      <td>0.000857</td>\n",
       "      <td>sett</td>\n",
       "      <td>0.0</td>\n",
       "    </tr>\n",
       "    <tr>\n",
       "      <th>46914</th>\n",
       "      <td>959327628152817</td>\n",
       "      <td>0.998860</td>\n",
       "      <td>unpaved</td>\n",
       "      <td>0.0</td>\n",
       "    </tr>\n",
       "  </tbody>\n",
       "</table>\n",
       "<p>46915 rows × 4 columns</p>\n",
       "</div>"
      ],
      "text/plain": [
       "               image_id  surface_probability surface_label_pred  \\\n",
       "0      1108901116248517             0.985029            asphalt   \n",
       "1      1108901116248517             0.013105           concrete   \n",
       "2      1108901116248517             0.000046      paving_stones   \n",
       "3      1108901116248517             0.000687               sett   \n",
       "4      1108901116248517             0.001133            unpaved   \n",
       "...                 ...                  ...                ...   \n",
       "46910   959327628152817             0.000126            asphalt   \n",
       "46911   959327628152817             0.000045           concrete   \n",
       "46912   959327628152817             0.000112      paving_stones   \n",
       "46913   959327628152817             0.000857               sett   \n",
       "46914   959327628152817             0.998860            unpaved   \n",
       "\n",
       "       is_in_validation  \n",
       "0                   0.0  \n",
       "1                   0.0  \n",
       "2                   0.0  \n",
       "3                   0.0  \n",
       "4                   0.0  \n",
       "...                 ...  \n",
       "46910               0.0  \n",
       "46911               0.0  \n",
       "46912               0.0  \n",
       "46913               0.0  \n",
       "46914               0.0  \n",
       "\n",
       "[46915 rows x 4 columns]"
      ]
     },
     "execution_count": 62,
     "metadata": {},
     "output_type": "execute_result"
    }
   ],
   "source": [
    "pred"
   ]
  },
  {
   "cell_type": "code",
   "execution_count": 63,
   "metadata": {},
   "outputs": [],
   "source": [
    "# the prediction holds a value for each surface and a class probability. Only keep the highest prob.\n",
    "idx = pred.groupby(\"image_id\")[\"surface_probability\"].idxmax()\n",
    "pred = pred.loc[idx]\n"
   ]
  },
  {
   "cell_type": "code",
   "execution_count": 64,
   "metadata": {},
   "outputs": [],
   "source": [
    "annot = pd.read_csv(os.path.join(data_path, \"annotations_combined.csv\"))\n",
    "annot.rename(columns={\"surface\": \"surface_true\", \"smoothness\": \"quality_label_true\"}, inplace=True)\n",
    "# annot[\"quality_float_true\"] = annot[\"quality_label_true\"].map({\"excellent\": 1, \"good\": 2, \"intermediate\": 3, \"bad\": 4, \"very_bad\": 5})"
   ]
  },
  {
   "cell_type": "code",
   "execution_count": 65,
   "metadata": {},
   "outputs": [],
   "source": [
    "df = pred.set_index(\"image_id\").join(annot[[\"image_id\", \"surface_true\", \"quality_label_true\"]].set_index(\"image_id\"), how=\"left\")"
   ]
  },
  {
   "cell_type": "code",
   "execution_count": 66,
   "metadata": {},
   "outputs": [],
   "source": [
    "# exclude not recognizable\n",
    "df = df[df.surface_true.notna()]"
   ]
  },
  {
   "cell_type": "code",
   "execution_count": 67,
   "metadata": {},
   "outputs": [
    {
     "data": {
      "text/plain": [
       "surface_true   quality_label_true\n",
       "asphalt        bad                    113\n",
       "               excellent              716\n",
       "               good                  1251\n",
       "               intermediate           598\n",
       "concrete       bad                     53\n",
       "               excellent              189\n",
       "               good                   330\n",
       "               intermediate           242\n",
       "paving_stones  bad                     23\n",
       "               excellent              326\n",
       "               good                   668\n",
       "               intermediate           191\n",
       "sett           bad                    508\n",
       "               good                    91\n",
       "               intermediate           650\n",
       "unpaved        bad                    332\n",
       "               intermediate           293\n",
       "               very_bad               155\n",
       "dtype: int64"
      ]
     },
     "execution_count": 67,
     "metadata": {},
     "output_type": "execute_result"
    }
   ],
   "source": [
    "df.groupby([\"surface_true\", \"quality_label_true\"]).size()"
   ]
  },
  {
   "cell_type": "code",
   "execution_count": 68,
   "metadata": {},
   "outputs": [],
   "source": [
    "df_valid = df[df.is_in_validation == 1]\n",
    "df_train = df[df.is_in_validation == 0]"
   ]
  },
  {
   "cell_type": "code",
   "execution_count": 69,
   "metadata": {},
   "outputs": [],
   "source": [
    "df.groupby([\"is_in_validation\", \"surface_true\"]).size().to_csv(\"test.csv\")"
   ]
  },
  {
   "cell_type": "markdown",
   "metadata": {},
   "source": [
    "## Global measures"
   ]
  },
  {
   "cell_type": "code",
   "execution_count": 70,
   "metadata": {},
   "outputs": [],
   "source": [
    "def compute_measures(true_label, pred_label):\n",
    "    m = {\n",
    "    \"accuracy\": sum(true_label == pred_label) / len(true_label),\n",
    "    # \"correlation\": np.corrcoef(true_float, pred_float)[0, 1],\n",
    "    # \"r_square\": r2_score(true_float, pred_float),\n",
    "    # \"mse\": mean_squared_error(true_float, pred_float)\n",
    "    }\n",
    "    # m[\"rmse\"] = np.sqrt(m[\"mse\"])\n",
    "    return m"
   ]
  },
  {
   "cell_type": "code",
   "execution_count": 71,
   "metadata": {},
   "outputs": [
    {
     "data": {
      "text/html": [
       "<div>\n",
       "<style scoped>\n",
       "    .dataframe tbody tr th:only-of-type {\n",
       "        vertical-align: middle;\n",
       "    }\n",
       "\n",
       "    .dataframe tbody tr th {\n",
       "        vertical-align: top;\n",
       "    }\n",
       "\n",
       "    .dataframe thead th {\n",
       "        text-align: right;\n",
       "    }\n",
       "</style>\n",
       "<table border=\"1\" class=\"dataframe\">\n",
       "  <thead>\n",
       "    <tr style=\"text-align: right;\">\n",
       "      <th></th>\n",
       "      <th>all</th>\n",
       "      <th>validation</th>\n",
       "      <th>train</th>\n",
       "    </tr>\n",
       "  </thead>\n",
       "  <tbody>\n",
       "    <tr>\n",
       "      <th>accuracy</th>\n",
       "      <td>0.97</td>\n",
       "      <td>0.93</td>\n",
       "      <td>0.98</td>\n",
       "    </tr>\n",
       "  </tbody>\n",
       "</table>\n",
       "</div>"
      ],
      "text/plain": [
       "           all  validation  train\n",
       "accuracy  0.97        0.93   0.98"
      ]
     },
     "execution_count": 71,
     "metadata": {},
     "output_type": "execute_result"
    }
   ],
   "source": [
    "# all\n",
    "gm = compute_measures(df.surface_true, df.surface_label_pred)\n",
    "gm_valid = compute_measures(df_valid.surface_true, df_valid.surface_label_pred)\n",
    "gm_train = compute_measures(df_train.surface_true, df_train.surface_label_pred)\n",
    "pd.concat([pd.Series(gm, name=\"all\"), pd.Series(gm_valid, name=\"validation\"), pd.Series(gm_train, name=\"train\")], axis=1).round(2)"
   ]
  },
  {
   "cell_type": "markdown",
   "metadata": {},
   "source": [
    "## Measures by surface class"
   ]
  },
  {
   "cell_type": "code",
   "execution_count": 72,
   "metadata": {},
   "outputs": [],
   "source": [
    "# all\n",
    "# gm_surface = pd.DataFrame()\n",
    "# for surface in df.surface_true.unique():\n",
    "#     df_ = df[df.surface_true == surface]\n",
    "#     gm = compute_measures(df_.quality_float_true, df_.quality_float_pred)\n",
    "#     gm_surface = pd.concat([gm_surface, pd.Series(gm, name=surface)], axis=1)\n",
    "\n",
    "# gm_surface.round(2)"
   ]
  },
  {
   "cell_type": "code",
   "execution_count": 73,
   "metadata": {},
   "outputs": [],
   "source": [
    "# all\n",
    "# gm_surface = pd.DataFrame()\n",
    "# for surface in df.surface_true.unique():\n",
    "#     df_ = df[df.surface_true == surface]\n",
    "#     gm = compute_measures(df_.quality_float_true, df_.quality_float_pred)\n",
    "#     gm_surface = pd.concat([gm_surface, pd.Series(gm, name=surface)], axis=1)\n",
    "\n",
    "# gm_surface.round(2)"
   ]
  },
  {
   "cell_type": "code",
   "execution_count": 74,
   "metadata": {},
   "outputs": [],
   "source": [
    "# only validation\n",
    "# gm_surface = pd.DataFrame()\n",
    "# for surface in df_valid.surface_true.unique():\n",
    "#     df_ = df_valid[df_valid.surface_true == surface]\n",
    "#     gm = compute_measures(df_.quality_float_true, df_.quality_float_pred)\n",
    "#     gm_surface = pd.concat([gm_surface, pd.Series(gm, name=surface)], axis=1)\n",
    "\n",
    "# gm_surface.round(2)"
   ]
  },
  {
   "cell_type": "markdown",
   "metadata": {},
   "source": [
    "## compare float values"
   ]
  },
  {
   "cell_type": "code",
   "execution_count": 75,
   "metadata": {},
   "outputs": [],
   "source": [
    "df = df_valid\n",
    "# df = df_train"
   ]
  },
  {
   "cell_type": "code",
   "execution_count": 76,
   "metadata": {},
   "outputs": [],
   "source": [
    "# Plot\n",
    "# np.random.seed(5)\n",
    "# colors = {surface_type: np.random.rand(3,) for surface_type in df.surface_true.unique()}\n",
    "\n",
    "# sns.scatterplot(data=df, x=\"quality_float_true\", y=\"quality_float_pred\", hue=\"surface_true\", palette=colors, legend=\"full\")\n",
    "# plt.xlabel('True')\n",
    "# plt.ylabel('Pred')\n",
    "# plt.title('True vs. Pred quality by surface')\n",
    "# plt.show()\n"
   ]
  },
  {
   "cell_type": "code",
   "execution_count": 77,
   "metadata": {},
   "outputs": [],
   "source": [
    "# sns.set_style(\"whitegrid\")\n",
    "\n",
    "# # Create a FacetGrid\n",
    "# g = sns.FacetGrid(df, col=\"surface_true\", col_wrap=3)\n",
    "\n",
    "# # Map scatter plot for each surface type\n",
    "# g.map(sns.scatterplot, \"quality_float_true\", \"quality_float_pred\")\n",
    "\n",
    "# plt.show()"
   ]
  },
  {
   "cell_type": "markdown",
   "metadata": {},
   "source": [
    "#### Hom much do the deviate?"
   ]
  },
  {
   "cell_type": "code",
   "execution_count": 78,
   "metadata": {},
   "outputs": [],
   "source": [
    "# df[\"deviation\"] = df.quality_float_true - df.quality_float_pred"
   ]
  },
  {
   "cell_type": "markdown",
   "metadata": {},
   "source": [
    "**Overall**"
   ]
  },
  {
   "cell_type": "code",
   "execution_count": 79,
   "metadata": {},
   "outputs": [],
   "source": [
    "# df.deviation.hist(bins=20)"
   ]
  },
  {
   "cell_type": "markdown",
   "metadata": {},
   "source": [
    "**by surface**"
   ]
  },
  {
   "cell_type": "code",
   "execution_count": 80,
   "metadata": {},
   "outputs": [],
   "source": [
    "# # Create a FacetGrid for histograms\n",
    "# g_hist = sns.FacetGrid(df, col=\"surface_true\", col_wrap=3)\n",
    "\n",
    "# # Map histogram for deviation for each surface type\n",
    "# g_hist.map(plt.hist, \"deviation\", color='green', density=True, bins=20)\n",
    "\n",
    "# plt.show()"
   ]
  },
  {
   "cell_type": "markdown",
   "metadata": {},
   "source": [
    "## compare classes"
   ]
  },
  {
   "cell_type": "code",
   "execution_count": 81,
   "metadata": {},
   "outputs": [
    {
     "data": {
      "image/png": "[encoded data removed]",
      "text/plain": [
       "<Figure size 640x480 with 1 Axes>"
      ]
     },
     "metadata": {},
     "output_type": "display_data"
    }
   ],
   "source": [
    "# Plotting the confusion matrix using seaborn heatmap\n",
    "\n",
    "cm = confusion_matrix(df.surface_true, df.surface_label_pred, labels=[\"asphalt\", \"concrete\", \"paving_stones\", \"sett\", \"unpaved\"])\n",
    "plt.figure()\n",
    "sns.heatmap(cm, annot=True, fmt=\"d\", cmap=\"Blues\", cbar=False,\n",
    "            xticklabels=[\"asphalt\", \"concrete\", \"paving_stones\", \"sett\", \"unpaved\"],\n",
    "            yticklabels=[\"asphalt\", \"concrete\", \"paving_stones\", \"sett\", \"unpaved\"])\n",
    "plt.title(f\"Confusion Matrix for Surface\")\n",
    "plt.xlabel(\"Predicted\")\n",
    "plt.ylabel(\"Annotated\")\n",
    "plt.show()"
   ]
  },
  {
   "cell_type": "code",
   "execution_count": 82,
   "metadata": {},
   "outputs": [
    {
     "name": "stdout",
     "output_type": "stream",
     "text": [
      "Count: 1346\n",
      "Precision: 0.93\n",
      "Recall: 0.93\n",
      "------------------------\n"
     ]
    }
   ],
   "source": [
    "# Extract predicted and ground truth values\n",
    "\n",
    "class_precision = precision_score(df.surface_true, df.surface_label_pred, average='weighted')\n",
    "class_recall = recall_score(df.surface_true, df.surface_label_pred, average='weighted')\n",
    "\n",
    "print(f\"Count: {len(df)}\")\n",
    "print(f\"Precision: {round(class_precision, 2)}\")\n",
    "print(f\"Recall: {round(class_recall, 2)}\")\n",
    "print(\"------------------------\")\n"
   ]
  },
  {
   "cell_type": "code",
   "execution_count": 83,
   "metadata": {},
   "outputs": [],
   "source": [
    "# all images that were incorrectly classified\n",
    "misclassification = df[(df.surface_label_pred != df.surface_true) & (df.is_in_validation == 1)]"
   ]
  },
  {
   "cell_type": "code",
   "execution_count": 84,
   "metadata": {},
   "outputs": [],
   "source": [
    "misclassification = misclassification.sort_values(\"image_id\")\n",
    "misclassification.reset_index( inplace=True)\n",
    "misclassification[[\"image_id\", \"is_in_validation\", \n",
    "                   \"surface_true\", \"surface_label_pred\", \"quality_label_true\"]\n",
    "                   ].to_csv(os.path.join(data_path, \"model_predictions\", \"misclassification_surface.csv\"), index=False)"
   ]
  },
  {
   "cell_type": "code",
   "execution_count": 85,
   "metadata": {},
   "outputs": [],
   "source": [
    "# store missclassified images in folder\n",
    "import shutil\n",
    "\n",
    "path = os.path.join(data_path, \"model_predictions\", \"misclassified_images\", \"surface\")\n",
    "os.makedirs(path, exist_ok=True)\n",
    "for i in range(len(misclassification)):  # len(misclassification)\n",
    "    img = misclassification.loc[i]\n",
    "    img_path = os.path.join(root_data_path, \"annotated\")\n",
    "    destination_folder_path = os.path.join(path, img.surface_true, img.surface_label_pred)\n",
    "    os.makedirs(destination_folder_path, exist_ok=True)\n",
    "    destination_path = os.path.join(destination_folder_path, f\"{img.image_id}.jpg\")\n",
    "    image_filename = os.path.join(img_path, img.surface_true, img.quality_label_true, f\"{img.image_id}.jpg\")\n",
    "    shutil.copy(image_filename, destination_folder_path)"
   ]
  },
  {
   "cell_type": "code",
   "execution_count": 52,
   "metadata": {},
   "outputs": [],
   "source": [
    "# store missclassified images in folder\n",
    "# path = \"/Users/alexandra/Nextcloud-HTW/SHARED/SurfaceAI/data/mapillary_images/training/V4/metadata/model_predictions/VGG16_V4_not_annotated/missclassified_wo_nostreet\"\n",
    "# os.makedirs(path, exist_ok=True)\n",
    "# for image_id in misclassification_wo_nostreet.index:\n",
    "#     destination_path = os.path.join(path, f\"{image_id}.jpg\")\n",
    "#     image_filename = os.path.join(\"/Users/alexandra/Nextcloud-HTW/SHARED/SurfaceAI/data/mapillary_images/training/V4/unsorted_images\", f\"{image_id}.jpg\")\n",
    "#     shutil.copy(image_filename, destination_path)"
   ]
  },
  {
   "cell_type": "code",
   "execution_count": null,
   "metadata": {},
   "outputs": [],
   "source": []
  },
  {
   "cell_type": "code",
   "execution_count": null,
   "metadata": {},
   "outputs": [],
   "source": []
  }
 ],
 "metadata": {
  "kernelspec": {
   "display_name": "sai_dc",
   "language": "python",
   "name": "python3"
  },
  "language_info": {
   "codemirror_mode": {
    "name": "ipython",
    "version": 3
   },
   "file_extension": ".py",
   "mimetype": "text/x-python",
   "name": "python",
   "nbconvert_exporter": "python",
   "pygments_lexer": "ipython3",
   "version": "3.10.13"
  }
 },
 "nbformat": 4,
 "nbformat_minor": 2
}
